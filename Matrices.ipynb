{
  "nbformat": 4,
  "nbformat_minor": 0,
  "metadata": {
    "colab": {
      "name": "Matrices.ipynb",
      "provenance": [],
      "collapsed_sections": [],
      "authorship_tag": "ABX9TyNUHVYtwUPY/4MPBacoF6gQ",
      "include_colab_link": true
    },
    "kernelspec": {
      "name": "python3",
      "display_name": "Python 3"
    }
  },
  "cells": [
    {
      "cell_type": "markdown",
      "metadata": {
        "id": "view-in-github",
        "colab_type": "text"
      },
      "source": [
        "<a href=\"https://colab.research.google.com/github/SirCarlitros/Math3/blob/main/Matrices.ipynb\" target=\"_parent\"><img src=\"https://colab.research.google.com/assets/colab-badge.svg\" alt=\"Open In Colab\"/></a>"
      ]
    },
    {
      "cell_type": "code",
      "metadata": {
        "id": "5b9JQHeMJgAq"
      },
      "source": [
        "import numpy as np"
      ],
      "execution_count": null,
      "outputs": []
    },
    {
      "cell_type": "code",
      "metadata": {
        "id": "paNrc7cZJmop"
      },
      "source": [
        "array = np.array([1,2,3,4,5,6,7])"
      ],
      "execution_count": null,
      "outputs": []
    },
    {
      "cell_type": "code",
      "metadata": {
        "id": "C7PzLRDgKl6E"
      },
      "source": [
        "matrix01 = np.array([[1,2,3],[5,6,8],[9,10,11]])\r\n",
        "matrix02 = np.array([[0,0,0],[2,2,2],[1,1,1]])"
      ],
      "execution_count": null,
      "outputs": []
    },
    {
      "cell_type": "code",
      "metadata": {
        "colab": {
          "base_uri": "https://localhost:8080/"
        },
        "id": "HuNVogTeKEwt",
        "outputId": "e73324c1-ad75-4bd8-8271-539cfbced8e5"
      },
      "source": [
        "array.shape"
      ],
      "execution_count": null,
      "outputs": [
        {
          "output_type": "execute_result",
          "data": {
            "text/plain": [
              "(7,)"
            ]
          },
          "metadata": {
            "tags": []
          },
          "execution_count": 4
        }
      ]
    },
    {
      "cell_type": "code",
      "metadata": {
        "colab": {
          "base_uri": "https://localhost:8080/"
        },
        "id": "YpD2YdMQK1WF",
        "outputId": "4ad02687-1200-487e-e5a4-e492b4ba57d0"
      },
      "source": [
        "matrix01.shape"
      ],
      "execution_count": null,
      "outputs": [
        {
          "output_type": "execute_result",
          "data": {
            "text/plain": [
              "(3, 3)"
            ]
          },
          "metadata": {
            "tags": []
          },
          "execution_count": 5
        }
      ]
    },
    {
      "cell_type": "code",
      "metadata": {
        "colab": {
          "base_uri": "https://localhost:8080/"
        },
        "id": "Eb1rmw-XLNmT",
        "outputId": "a63f14cf-2cd3-4e27-f077-41999fc8500c"
      },
      "source": [
        "matrix02.shape"
      ],
      "execution_count": null,
      "outputs": [
        {
          "output_type": "execute_result",
          "data": {
            "text/plain": [
              "(3, 3)"
            ]
          },
          "metadata": {
            "tags": []
          },
          "execution_count": 6
        }
      ]
    },
    {
      "cell_type": "code",
      "metadata": {
        "id": "tnL1vfBgLQie"
      },
      "source": [
        "matrix03 = matrix01 + matrix02"
      ],
      "execution_count": null,
      "outputs": []
    },
    {
      "cell_type": "code",
      "metadata": {
        "colab": {
          "base_uri": "https://localhost:8080/"
        },
        "id": "50XEoTdwLZ29",
        "outputId": "325099d3-9df7-4707-b0e7-cd6fd258921c"
      },
      "source": [
        "matrix01"
      ],
      "execution_count": null,
      "outputs": [
        {
          "output_type": "execute_result",
          "data": {
            "text/plain": [
              "array([[ 1,  2,  3],\n",
              "       [ 5,  6,  8],\n",
              "       [ 9, 10, 11]])"
            ]
          },
          "metadata": {
            "tags": []
          },
          "execution_count": 48
        }
      ]
    },
    {
      "cell_type": "code",
      "metadata": {
        "colab": {
          "base_uri": "https://localhost:8080/"
        },
        "id": "k7z6pZcOLcJt",
        "outputId": "cec47c82-2194-4082-d9f5-407358b46477"
      },
      "source": [
        "matrix02"
      ],
      "execution_count": null,
      "outputs": [
        {
          "output_type": "execute_result",
          "data": {
            "text/plain": [
              "array([[0, 0, 0],\n",
              "       [2, 2, 2],\n",
              "       [1, 1, 1]])"
            ]
          },
          "metadata": {
            "tags": []
          },
          "execution_count": 49
        }
      ]
    },
    {
      "cell_type": "code",
      "metadata": {
        "colab": {
          "base_uri": "https://localhost:8080/"
        },
        "id": "i7-_uDgmLW4M",
        "outputId": "bdc4f114-f844-4f0d-918e-d1f5b271d324"
      },
      "source": [
        "matrix03"
      ],
      "execution_count": null,
      "outputs": [
        {
          "output_type": "execute_result",
          "data": {
            "text/plain": [
              "array([[ 1,  2,  3],\n",
              "       [ 7,  8, 10],\n",
              "       [10, 11, 12]])"
            ]
          },
          "metadata": {
            "tags": []
          },
          "execution_count": 10
        }
      ]
    },
    {
      "cell_type": "code",
      "metadata": {
        "colab": {
          "base_uri": "https://localhost:8080/"
        },
        "id": "SkGXZZevLmFr",
        "outputId": "676c6e48-37d5-42d2-bd15-bc34574636fe"
      },
      "source": [
        "matrix01.shape[1]"
      ],
      "execution_count": null,
      "outputs": [
        {
          "output_type": "execute_result",
          "data": {
            "text/plain": [
              "3"
            ]
          },
          "metadata": {
            "tags": []
          },
          "execution_count": 11
        }
      ]
    },
    {
      "cell_type": "code",
      "metadata": {
        "id": "TczasWWlMp2F"
      },
      "source": [
        "ceros = np.zeros((5,3))"
      ],
      "execution_count": null,
      "outputs": []
    },
    {
      "cell_type": "code",
      "metadata": {
        "colab": {
          "base_uri": "https://localhost:8080/"
        },
        "id": "YOA4WiVtMwv0",
        "outputId": "21cf35f1-e58b-433d-e7c6-952dce5cbdd0"
      },
      "source": [
        "ceros"
      ],
      "execution_count": null,
      "outputs": [
        {
          "output_type": "execute_result",
          "data": {
            "text/plain": [
              "array([[0., 0., 0.],\n",
              "       [0., 0., 0.],\n",
              "       [0., 0., 0.],\n",
              "       [0., 0., 0.],\n",
              "       [0., 0., 0.]])"
            ]
          },
          "metadata": {
            "tags": []
          },
          "execution_count": 13
        }
      ]
    },
    {
      "cell_type": "code",
      "metadata": {
        "id": "bGffwxRnMEta"
      },
      "source": [
        "def sumaMatrix(A,B):\r\n",
        "  if(A.shape == B.shape):\r\n",
        "    C = np.zeros(A.shape)\r\n",
        "    for i in range(A.shape[0]):\r\n",
        "      for j in range(A.shape[1]):\r\n",
        "        C[i][j] = A[i][j] + B[i][j]\r\n",
        "    return C\r\n",
        "  else:\r\n",
        "    print(\"Dimensiones No Coinciden\")\r\n"
      ],
      "execution_count": null,
      "outputs": []
    },
    {
      "cell_type": "code",
      "metadata": {
        "colab": {
          "base_uri": "https://localhost:8080/"
        },
        "id": "FL3m3JhxOHXw",
        "outputId": "2525c643-5e8b-4d3f-b869-9a938c90a631"
      },
      "source": [
        "sumaMatrix(matrix01,matrix02)"
      ],
      "execution_count": null,
      "outputs": [
        {
          "output_type": "execute_result",
          "data": {
            "text/plain": [
              "array([[ 1.,  2.,  3.],\n",
              "       [ 7.,  8., 10.],\n",
              "       [10., 11., 12.]])"
            ]
          },
          "metadata": {
            "tags": []
          },
          "execution_count": 15
        }
      ]
    },
    {
      "cell_type": "code",
      "metadata": {
        "id": "4SA8DEFcOieP"
      },
      "source": [
        "def mulMatrix(A,B):\r\n",
        "  if(A.shape[1] == B.shape[0]):\r\n",
        "    C = np.zeros((A.shape[0],B.shape[1]))\r\n",
        "    for i in range(C.shape[0]):\r\n",
        "      for j in range(C.shape[1]):\r\n",
        "        for k in range(A.shape[1]):\r\n",
        "          C[i][j] += A[i][k]*B[k][j] \r\n",
        "    return C\r\n",
        "  else:\r\n",
        "    print(\"No esta definida la multiplicación para estas dimensiones\")"
      ],
      "execution_count": null,
      "outputs": []
    },
    {
      "cell_type": "code",
      "metadata": {
        "id": "gj2bxiD2OVrB"
      },
      "source": [
        "def mulMatrix2(A,B):\r\n",
        "  if(A.shape[1] == B.shape[0]):\r\n",
        "    C = np.zeros((A.shape[0],B.shape[1]))\r\n",
        "    for i in range(C.shape[0]):\r\n",
        "      for j in range(C.shape[1]):\r\n",
        "          C[i][j] = (A[i]*B.T[j]).sum()   \r\n",
        "    return C\r\n",
        "  else:\r\n",
        "    print(\"No esta definida la multiplicación para estas dimensiones\")"
      ],
      "execution_count": null,
      "outputs": []
    },
    {
      "cell_type": "code",
      "metadata": {
        "id": "7iVklHTDOyux"
      },
      "source": [
        "matrix04 = np.array([[1,2,3],[4,5,6],[7,8,9]])"
      ],
      "execution_count": null,
      "outputs": []
    },
    {
      "cell_type": "code",
      "metadata": {
        "colab": {
          "base_uri": "https://localhost:8080/"
        },
        "id": "0DWV0UC2Sz5s",
        "outputId": "83454f80-0261-48d8-f63b-5eba82ce16b9"
      },
      "source": [
        "matrix04.shape"
      ],
      "execution_count": null,
      "outputs": [
        {
          "output_type": "execute_result",
          "data": {
            "text/plain": [
              "(3, 3)"
            ]
          },
          "metadata": {
            "tags": []
          },
          "execution_count": 39
        }
      ]
    },
    {
      "cell_type": "code",
      "metadata": {
        "colab": {
          "base_uri": "https://localhost:8080/"
        },
        "id": "ZOn9mzTKVenP",
        "outputId": "31573647-03f4-4be4-bc2e-142f83b0993f"
      },
      "source": [
        "matrix04[1].sum()"
      ],
      "execution_count": null,
      "outputs": [
        {
          "output_type": "execute_result",
          "data": {
            "text/plain": [
              "15"
            ]
          },
          "metadata": {
            "tags": []
          },
          "execution_count": 59
        }
      ]
    },
    {
      "cell_type": "code",
      "metadata": {
        "colab": {
          "base_uri": "https://localhost:8080/"
        },
        "id": "wf26QowmS_Vx",
        "outputId": "09f96f1c-60c2-4fe0-c491-90b112581aae"
      },
      "source": [
        "matrix04[2]* matrix04[0]"
      ],
      "execution_count": null,
      "outputs": [
        {
          "output_type": "execute_result",
          "data": {
            "text/plain": [
              "array([ 7, 16, 27])"
            ]
          },
          "metadata": {
            "tags": []
          },
          "execution_count": 45
        }
      ]
    },
    {
      "cell_type": "code",
      "metadata": {
        "id": "HjNAguZlPEWb"
      },
      "source": [
        "matrix04T = matrix04.T"
      ],
      "execution_count": null,
      "outputs": []
    },
    {
      "cell_type": "code",
      "metadata": {
        "colab": {
          "base_uri": "https://localhost:8080/"
        },
        "id": "LdQCLuhjRqyO",
        "outputId": "9846c8e2-59fb-4df3-d0e9-155224e31623"
      },
      "source": [
        "matrix04T"
      ],
      "execution_count": null,
      "outputs": [
        {
          "output_type": "execute_result",
          "data": {
            "text/plain": [
              "array([[1, 4, 7],\n",
              "       [2, 5, 8],\n",
              "       [3, 6, 9]])"
            ]
          },
          "metadata": {
            "tags": []
          },
          "execution_count": 38
        }
      ]
    },
    {
      "cell_type": "code",
      "metadata": {
        "colab": {
          "base_uri": "https://localhost:8080/"
        },
        "id": "wg1sgAmLUXu8",
        "outputId": "fa80968b-e6b8-4f3a-86ad-87c30e7ad3eb"
      },
      "source": [
        "mulMatrix2(matrix01,matrix02)"
      ],
      "execution_count": null,
      "outputs": [
        {
          "output_type": "execute_result",
          "data": {
            "text/plain": [
              "array([[ 7.,  7.,  7.],\n",
              "       [20., 20., 20.],\n",
              "       [31., 31., 31.]])"
            ]
          },
          "metadata": {
            "tags": []
          },
          "execution_count": 62
        }
      ]
    },
    {
      "cell_type": "code",
      "metadata": {
        "colab": {
          "base_uri": "https://localhost:8080/"
        },
        "id": "QpWnZ_oSQFeF",
        "outputId": "6383d9f5-5813-46fb-a1cd-693579fa0889"
      },
      "source": [
        "mulMatrix(matrix01,matrix02)"
      ],
      "execution_count": null,
      "outputs": [
        {
          "output_type": "execute_result",
          "data": {
            "text/plain": [
              "array([[ 7.,  7.,  7.],\n",
              "       [20., 20., 20.],\n",
              "       [31., 31., 31.]])"
            ]
          },
          "metadata": {
            "tags": []
          },
          "execution_count": 55
        }
      ]
    },
    {
      "cell_type": "code",
      "metadata": {
        "id": "fTRqYrdCQQAA",
        "colab": {
          "base_uri": "https://localhost:8080/"
        },
        "outputId": "013d2216-d27d-42e3-e99f-a605d5c19752"
      },
      "source": [
        "np.matmul(matrix01,matrix02)"
      ],
      "execution_count": null,
      "outputs": [
        {
          "output_type": "execute_result",
          "data": {
            "text/plain": [
              "array([[ 7,  7,  7],\n",
              "       [20, 20, 20],\n",
              "       [31, 31, 31]])"
            ]
          },
          "metadata": {
            "tags": []
          },
          "execution_count": 18
        }
      ]
    }
  ]
}