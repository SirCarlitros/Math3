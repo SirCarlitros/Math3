{
  "nbformat": 4,
  "nbformat_minor": 0,
  "metadata": {
    "colab": {
      "name": "Matrices.ipynb",
      "provenance": [],
      "collapsed_sections": [],
      "authorship_tag": "ABX9TyPRfyvOQBYcitrW45O0gBZO",
      "include_colab_link": true
    },
    "kernelspec": {
      "name": "python3",
      "display_name": "Python 3"
    }
  },
  "cells": [
    {
      "cell_type": "markdown",
      "metadata": {
        "id": "view-in-github",
        "colab_type": "text"
      },
      "source": [
        "<a href=\"https://colab.research.google.com/github/SirCarlitros/Math3/blob/main/Matrices.ipynb\" target=\"_parent\"><img src=\"https://colab.research.google.com/assets/colab-badge.svg\" alt=\"Open In Colab\"/></a>"
      ]
    },
    {
      "cell_type": "code",
      "metadata": {
        "id": "5b9JQHeMJgAq"
      },
      "source": [
        "import numpy as np"
      ],
      "execution_count": 1,
      "outputs": []
    },
    {
      "cell_type": "code",
      "metadata": {
        "id": "paNrc7cZJmop"
      },
      "source": [
        "array = np.array([1,2,3,4,5,6,7])"
      ],
      "execution_count": 2,
      "outputs": []
    },
    {
      "cell_type": "code",
      "metadata": {
        "id": "C7PzLRDgKl6E"
      },
      "source": [
        "matrix01 = np.array([[1,2,3],[5,6,8],[9,10,11]])\r\n",
        "matrix02 = np.array([[0,0,0],[2,2,2],[1,1,1]])"
      ],
      "execution_count": 3,
      "outputs": []
    },
    {
      "cell_type": "code",
      "metadata": {
        "colab": {
          "base_uri": "https://localhost:8080/"
        },
        "id": "HuNVogTeKEwt",
        "outputId": "771a703e-0e36-40aa-df4d-d9ede3193b9e"
      },
      "source": [
        "array.shape"
      ],
      "execution_count": 4,
      "outputs": [
        {
          "output_type": "execute_result",
          "data": {
            "text/plain": [
              "(7,)"
            ]
          },
          "metadata": {
            "tags": []
          },
          "execution_count": 4
        }
      ]
    },
    {
      "cell_type": "code",
      "metadata": {
        "colab": {
          "base_uri": "https://localhost:8080/"
        },
        "id": "YpD2YdMQK1WF",
        "outputId": "3d7a8ca0-9381-4f92-c670-8b3a61234a82"
      },
      "source": [
        "matrix01.shape"
      ],
      "execution_count": 5,
      "outputs": [
        {
          "output_type": "execute_result",
          "data": {
            "text/plain": [
              "(3, 3)"
            ]
          },
          "metadata": {
            "tags": []
          },
          "execution_count": 5
        }
      ]
    },
    {
      "cell_type": "code",
      "metadata": {
        "colab": {
          "base_uri": "https://localhost:8080/"
        },
        "id": "Eb1rmw-XLNmT",
        "outputId": "f7836229-748b-4946-e927-7b77e69a97ff"
      },
      "source": [
        "matrix02.shape"
      ],
      "execution_count": 6,
      "outputs": [
        {
          "output_type": "execute_result",
          "data": {
            "text/plain": [
              "(3, 3)"
            ]
          },
          "metadata": {
            "tags": []
          },
          "execution_count": 6
        }
      ]
    },
    {
      "cell_type": "code",
      "metadata": {
        "id": "tnL1vfBgLQie"
      },
      "source": [
        "matrix03 = matrix01 + matrix02"
      ],
      "execution_count": 7,
      "outputs": []
    },
    {
      "cell_type": "code",
      "metadata": {
        "colab": {
          "base_uri": "https://localhost:8080/"
        },
        "id": "50XEoTdwLZ29",
        "outputId": "4796645c-3c43-4771-9fed-210071a8b65d"
      },
      "source": [
        "matrix01"
      ],
      "execution_count": 8,
      "outputs": [
        {
          "output_type": "execute_result",
          "data": {
            "text/plain": [
              "array([[ 1,  2,  3],\n",
              "       [ 5,  6,  8],\n",
              "       [ 9, 10, 11]])"
            ]
          },
          "metadata": {
            "tags": []
          },
          "execution_count": 8
        }
      ]
    },
    {
      "cell_type": "code",
      "metadata": {
        "colab": {
          "base_uri": "https://localhost:8080/"
        },
        "id": "k7z6pZcOLcJt",
        "outputId": "778ab6ad-5050-40a0-8ae2-4214b09698c2"
      },
      "source": [
        "matrix02"
      ],
      "execution_count": 9,
      "outputs": [
        {
          "output_type": "execute_result",
          "data": {
            "text/plain": [
              "array([[0, 0, 0],\n",
              "       [2, 2, 2],\n",
              "       [1, 1, 1]])"
            ]
          },
          "metadata": {
            "tags": []
          },
          "execution_count": 9
        }
      ]
    },
    {
      "cell_type": "code",
      "metadata": {
        "colab": {
          "base_uri": "https://localhost:8080/"
        },
        "id": "i7-_uDgmLW4M",
        "outputId": "647fda00-4681-45b4-8e44-241247d889c2"
      },
      "source": [
        "matrix03"
      ],
      "execution_count": 10,
      "outputs": [
        {
          "output_type": "execute_result",
          "data": {
            "text/plain": [
              "array([[ 1,  2,  3],\n",
              "       [ 7,  8, 10],\n",
              "       [10, 11, 12]])"
            ]
          },
          "metadata": {
            "tags": []
          },
          "execution_count": 10
        }
      ]
    },
    {
      "cell_type": "code",
      "metadata": {
        "colab": {
          "base_uri": "https://localhost:8080/"
        },
        "id": "SkGXZZevLmFr",
        "outputId": "f1468a80-78c4-4992-bf73-55114896637b"
      },
      "source": [
        "matrix01.shape[1]"
      ],
      "execution_count": 11,
      "outputs": [
        {
          "output_type": "execute_result",
          "data": {
            "text/plain": [
              "3"
            ]
          },
          "metadata": {
            "tags": []
          },
          "execution_count": 11
        }
      ]
    },
    {
      "cell_type": "code",
      "metadata": {
        "id": "TczasWWlMp2F"
      },
      "source": [
        "ceros = np.zeros((5,3))"
      ],
      "execution_count": 12,
      "outputs": []
    },
    {
      "cell_type": "code",
      "metadata": {
        "colab": {
          "base_uri": "https://localhost:8080/"
        },
        "id": "YOA4WiVtMwv0",
        "outputId": "9a96db3a-4b2a-4747-8b10-06671f3d264c"
      },
      "source": [
        "ceros"
      ],
      "execution_count": 13,
      "outputs": [
        {
          "output_type": "execute_result",
          "data": {
            "text/plain": [
              "array([[0., 0., 0.],\n",
              "       [0., 0., 0.],\n",
              "       [0., 0., 0.],\n",
              "       [0., 0., 0.],\n",
              "       [0., 0., 0.]])"
            ]
          },
          "metadata": {
            "tags": []
          },
          "execution_count": 13
        }
      ]
    },
    {
      "cell_type": "code",
      "metadata": {
        "id": "bGffwxRnMEta"
      },
      "source": [
        "def sumaMatrix(A,B):\r\n",
        "  if(A.shape == B.shape):\r\n",
        "    C = np.zeros(A.shape)\r\n",
        "    for i in range(A.shape[0]):\r\n",
        "      for j in range(A.shape[1]):\r\n",
        "        C[i][j] = A[i][j] + B[i][j]\r\n",
        "    return C\r\n",
        "  else:\r\n",
        "    print(\"Dimensiones No Coinciden\")\r\n"
      ],
      "execution_count": 14,
      "outputs": []
    },
    {
      "cell_type": "code",
      "metadata": {
        "id": "KBHZZ9GQ3xBu"
      },
      "source": [
        "def restaMatrix(A,B):\r\n",
        "  if(A.shape == B.shape):\r\n",
        "    C = np.zeros(A.shape)\r\n",
        "    for i in range(A.shape[0]):\r\n",
        "      for j in range(A.shape[1]):\r\n",
        "        C[i][j] = A[i][j] - B[i][j]\r\n",
        "    return C\r\n",
        "  else:\r\n",
        "    print(\"Dimensiones No Coinciden\")"
      ],
      "execution_count": 15,
      "outputs": []
    },
    {
      "cell_type": "code",
      "metadata": {
        "id": "VGPStYm50Mml"
      },
      "source": [
        ""
      ],
      "execution_count": 15,
      "outputs": []
    },
    {
      "cell_type": "code",
      "metadata": {
        "colab": {
          "base_uri": "https://localhost:8080/"
        },
        "id": "FL3m3JhxOHXw",
        "outputId": "3c1c6504-e78e-485e-f4d5-3300772b6f8e"
      },
      "source": [
        "sumaMatrix(matrix01,matrix02)"
      ],
      "execution_count": 16,
      "outputs": [
        {
          "output_type": "execute_result",
          "data": {
            "text/plain": [
              "array([[ 1.,  2.,  3.],\n",
              "       [ 7.,  8., 10.],\n",
              "       [10., 11., 12.]])"
            ]
          },
          "metadata": {
            "tags": []
          },
          "execution_count": 16
        }
      ]
    },
    {
      "cell_type": "code",
      "metadata": {
        "id": "4SA8DEFcOieP"
      },
      "source": [
        "def mulMatrix(A,B):\r\n",
        "  if(A.shape[1] == B.shape[0]):\r\n",
        "    C = np.zeros((A.shape[0],B.shape[1]))\r\n",
        "    for i in range(C.shape[0]):\r\n",
        "      for j in range(C.shape[1]):\r\n",
        "        for k in range(A.shape[1]):\r\n",
        "          C[i][j] += A[i][k]*B[k][j] \r\n",
        "    return C\r\n",
        "  else:\r\n",
        "    print(\"No esta definida la multiplicación para estas dimensiones\")"
      ],
      "execution_count": 17,
      "outputs": []
    },
    {
      "cell_type": "code",
      "metadata": {
        "id": "gj2bxiD2OVrB"
      },
      "source": [
        "def mulMatrix2(A,B):\r\n",
        "  if(A.shape[1] == B.shape[0]):\r\n",
        "    C = np.zeros((A.shape[0],B.shape[1]))\r\n",
        "    for i in range(C.shape[0]):\r\n",
        "      for j in range(C.shape[1]):\r\n",
        "          C[i][j] = (A[i]*B.T[j]).sum()   \r\n",
        "    return C\r\n",
        "  else:\r\n",
        "    print(\"No esta definida la multiplicación para estas dimensiones\")"
      ],
      "execution_count": 18,
      "outputs": []
    },
    {
      "cell_type": "code",
      "metadata": {
        "id": "7iVklHTDOyux"
      },
      "source": [
        "matrix04 = np.array([[1,2,3],[4,5,6],[7,8,9]])"
      ],
      "execution_count": 19,
      "outputs": []
    },
    {
      "cell_type": "code",
      "metadata": {
        "colab": {
          "base_uri": "https://localhost:8080/"
        },
        "id": "0DWV0UC2Sz5s",
        "outputId": "f6ab471a-0e8d-4543-b50c-c1e468498841"
      },
      "source": [
        "matrix04.shape"
      ],
      "execution_count": 20,
      "outputs": [
        {
          "output_type": "execute_result",
          "data": {
            "text/plain": [
              "(3, 3)"
            ]
          },
          "metadata": {
            "tags": []
          },
          "execution_count": 20
        }
      ]
    },
    {
      "cell_type": "code",
      "metadata": {
        "colab": {
          "base_uri": "https://localhost:8080/"
        },
        "id": "ZOn9mzTKVenP",
        "outputId": "9fb669e5-5b4b-4e7d-fc0a-b08daad47e02"
      },
      "source": [
        "matrix04[1].sum()"
      ],
      "execution_count": 21,
      "outputs": [
        {
          "output_type": "execute_result",
          "data": {
            "text/plain": [
              "15"
            ]
          },
          "metadata": {
            "tags": []
          },
          "execution_count": 21
        }
      ]
    },
    {
      "cell_type": "code",
      "metadata": {
        "colab": {
          "base_uri": "https://localhost:8080/"
        },
        "id": "wf26QowmS_Vx",
        "outputId": "c0a4c976-9069-4885-b30b-3c868a55977c"
      },
      "source": [
        "matrix04[2]* matrix04[0]"
      ],
      "execution_count": 22,
      "outputs": [
        {
          "output_type": "execute_result",
          "data": {
            "text/plain": [
              "array([ 7, 16, 27])"
            ]
          },
          "metadata": {
            "tags": []
          },
          "execution_count": 22
        }
      ]
    },
    {
      "cell_type": "code",
      "metadata": {
        "id": "HjNAguZlPEWb"
      },
      "source": [
        "matrix04T = matrix04.T"
      ],
      "execution_count": 23,
      "outputs": []
    },
    {
      "cell_type": "code",
      "metadata": {
        "colab": {
          "base_uri": "https://localhost:8080/"
        },
        "id": "LdQCLuhjRqyO",
        "outputId": "a03b41df-f46f-4385-c974-626ec6ced21c"
      },
      "source": [
        "matrix04T"
      ],
      "execution_count": 24,
      "outputs": [
        {
          "output_type": "execute_result",
          "data": {
            "text/plain": [
              "array([[1, 4, 7],\n",
              "       [2, 5, 8],\n",
              "       [3, 6, 9]])"
            ]
          },
          "metadata": {
            "tags": []
          },
          "execution_count": 24
        }
      ]
    },
    {
      "cell_type": "code",
      "metadata": {
        "colab": {
          "base_uri": "https://localhost:8080/"
        },
        "id": "wg1sgAmLUXu8",
        "outputId": "561a09c3-1807-4983-9937-1af370548a9d"
      },
      "source": [
        "mulMatrix2(matrix01,matrix02)"
      ],
      "execution_count": 25,
      "outputs": [
        {
          "output_type": "execute_result",
          "data": {
            "text/plain": [
              "array([[ 7.,  7.,  7.],\n",
              "       [20., 20., 20.],\n",
              "       [31., 31., 31.]])"
            ]
          },
          "metadata": {
            "tags": []
          },
          "execution_count": 25
        }
      ]
    },
    {
      "cell_type": "code",
      "metadata": {
        "colab": {
          "base_uri": "https://localhost:8080/"
        },
        "id": "QpWnZ_oSQFeF",
        "outputId": "917d270f-07f0-41d3-e8f8-c5865d1a54c0"
      },
      "source": [
        "mulMatrix(matrix01,matrix02)"
      ],
      "execution_count": 26,
      "outputs": [
        {
          "output_type": "execute_result",
          "data": {
            "text/plain": [
              "array([[ 7.,  7.,  7.],\n",
              "       [20., 20., 20.],\n",
              "       [31., 31., 31.]])"
            ]
          },
          "metadata": {
            "tags": []
          },
          "execution_count": 26
        }
      ]
    },
    {
      "cell_type": "code",
      "metadata": {
        "id": "fTRqYrdCQQAA",
        "colab": {
          "base_uri": "https://localhost:8080/"
        },
        "outputId": "c143e580-49b4-4aea-87d6-b5fb1068fc92"
      },
      "source": [
        "np.matmul(matrix01,matrix02)"
      ],
      "execution_count": 27,
      "outputs": [
        {
          "output_type": "execute_result",
          "data": {
            "text/plain": [
              "array([[ 7,  7,  7],\n",
              "       [20, 20, 20],\n",
              "       [31, 31, 31]])"
            ]
          },
          "metadata": {
            "tags": []
          },
          "execution_count": 27
        }
      ]
    },
    {
      "cell_type": "code",
      "metadata": {
        "id": "thGuupaPziT-"
      },
      "source": [
        ""
      ],
      "execution_count": 27,
      "outputs": []
    },
    {
      "cell_type": "markdown",
      "metadata": {
        "id": "Kf_3DjSk0RNu"
      },
      "source": [
        "**Solución de Tarea**"
      ]
    },
    {
      "cell_type": "code",
      "metadata": {
        "id": "RSegnDBV0Uto"
      },
      "source": [
        "m01 = np.array([[1,2,3],[4,5,6],[7,8,9]])\r\n",
        "m02 = np.array([[4,0,3],[2,3,0],[0,1,2]])\r\n",
        "m03 = np.array([[0,0,1],[1,0,0],[0,1,0]])\r\n",
        "m04 = np.array([[0,0,1],[1,1,1],[1,1,1]])\r\n",
        "m05 = np.array([[0,0,1],[1,0,0],[0,1,0]])"
      ],
      "execution_count": 28,
      "outputs": []
    },
    {
      "cell_type": "code",
      "metadata": {
        "colab": {
          "base_uri": "https://localhost:8080/"
        },
        "id": "40Rp_YOt1CZg",
        "outputId": "8518cd3e-424e-472c-c8eb-e703750604a5"
      },
      "source": [
        "sumaMatrix(  sumaMatrix(sumaMatrix(sumaMatrix(m01,m02),m03),m04),m05)"
      ],
      "execution_count": 29,
      "outputs": [
        {
          "output_type": "execute_result",
          "data": {
            "text/plain": [
              "array([[ 5.,  2.,  9.],\n",
              "       [ 9.,  9.,  7.],\n",
              "       [ 8., 12., 12.]])"
            ]
          },
          "metadata": {
            "tags": []
          },
          "execution_count": 29
        }
      ]
    },
    {
      "cell_type": "code",
      "metadata": {
        "colab": {
          "base_uri": "https://localhost:8080/"
        },
        "id": "UPEw3MFH0kVN",
        "outputId": "dc0ec1b0-0276-4ab1-bee7-60e6847e54fe"
      },
      "source": [
        "sumaMatrix(restaMatrix(restaMatrix( sumaMatrix(m01,m02),m03),m04),m05)"
      ],
      "execution_count": 30,
      "outputs": [
        {
          "output_type": "execute_result",
          "data": {
            "text/plain": [
              "array([[ 5.,  2.,  5.],\n",
              "       [ 5.,  7.,  5.],\n",
              "       [ 6.,  8., 10.]])"
            ]
          },
          "metadata": {
            "tags": []
          },
          "execution_count": 30
        }
      ]
    },
    {
      "cell_type": "code",
      "metadata": {
        "id": "QK65RSv662At"
      },
      "source": [
        "def determiante2x2(A):\r\n",
        "  if(A.shape == (2,2)):\r\n",
        "    return A[0][0]* A[1][1] - A[0][1] *A[1][0]\r\n",
        "  else:\r\n",
        "    return print(\"No es del rango solicitado\")"
      ],
      "execution_count": 31,
      "outputs": []
    },
    {
      "cell_type": "code",
      "metadata": {
        "id": "wFuGXuIm755Y"
      },
      "source": [
        "m06 = np.array([[10,22],[15,5]])"
      ],
      "execution_count": 32,
      "outputs": []
    },
    {
      "cell_type": "code",
      "metadata": {
        "colab": {
          "base_uri": "https://localhost:8080/"
        },
        "id": "39wtBnQk8BHW",
        "outputId": "a739db18-4b15-432c-f53f-95c734241112"
      },
      "source": [
        "determiante2x2(m06)"
      ],
      "execution_count": 33,
      "outputs": [
        {
          "output_type": "execute_result",
          "data": {
            "text/plain": [
              "-280"
            ]
          },
          "metadata": {
            "tags": []
          },
          "execution_count": 33
        }
      ]
    },
    {
      "cell_type": "code",
      "metadata": {
        "colab": {
          "base_uri": "https://localhost:8080/"
        },
        "id": "LUz40Frd-9Xg",
        "outputId": "1facfee4-4cdf-4e8a-fff6-f65c10447dc1"
      },
      "source": [
        "determiante2x2(m01)"
      ],
      "execution_count": 34,
      "outputs": [
        {
          "output_type": "stream",
          "text": [
            "No es del rango solicitado\n"
          ],
          "name": "stdout"
        }
      ]
    },
    {
      "cell_type": "code",
      "metadata": {
        "id": "8gFMHM7sEWka"
      },
      "source": [
        "a = (\"hola\",\"mundo\")\r\n",
        "b =(1,2,3,4)"
      ],
      "execution_count": 35,
      "outputs": []
    },
    {
      "cell_type": "code",
      "metadata": {
        "id": "btfB5_hm_J26"
      },
      "source": [
        "def determiante3x3(A):\r\n",
        "  if(A.shape == (3,3)):\r\n",
        "    return A[0][0] * determiante2x2(np.delete(np.delete(A,0,0),0,1)) - A[0][1] * determiante2x2(np.delete(np.delete(A,0,0),1,1)) + A[0][2] * determiante2x2(np.delete(np.delete(A,0,0),2,1)) \r\n",
        "  else:\r\n",
        "    print(\"Introduzca una matriz de 3x3\")\r\n"
      ],
      "execution_count": 36,
      "outputs": []
    },
    {
      "cell_type": "code",
      "metadata": {
        "id": "wwLL9hrxGy1o",
        "colab": {
          "base_uri": "https://localhost:8080/"
        },
        "outputId": "bd174c5c-aaf2-48e4-a04e-a85c734cce23"
      },
      "source": [
        "determiante3x3(m01)"
      ],
      "execution_count": 37,
      "outputs": [
        {
          "output_type": "execute_result",
          "data": {
            "text/plain": [
              "0"
            ]
          },
          "metadata": {
            "tags": []
          },
          "execution_count": 37
        }
      ]
    },
    {
      "cell_type": "markdown",
      "metadata": {
        "id": "2wrNj1yeAICr"
      },
      "source": [
        "**¿Cómo obtener matrices Reducidas**"
      ]
    },
    {
      "cell_type": "code",
      "metadata": {
        "colab": {
          "base_uri": "https://localhost:8080/"
        },
        "id": "vYx9q7U6AMtV",
        "outputId": "59f2af68-d158-462b-a316-c9b21ed16db8"
      },
      "source": [
        "m01"
      ],
      "execution_count": 38,
      "outputs": [
        {
          "output_type": "execute_result",
          "data": {
            "text/plain": [
              "array([[1, 2, 3],\n",
              "       [4, 5, 6],\n",
              "       [7, 8, 9]])"
            ]
          },
          "metadata": {
            "tags": []
          },
          "execution_count": 38
        }
      ]
    },
    {
      "cell_type": "code",
      "metadata": {
        "colab": {
          "base_uri": "https://localhost:8080/"
        },
        "id": "ecoHpBBAAOcJ",
        "outputId": "859edfd0-73eb-466c-c597-76884865127d"
      },
      "source": [
        "m01_reducida11 = np.delete(np.delete(m01,0,0),0,1)\r\n",
        "m01_reducida11"
      ],
      "execution_count": 39,
      "outputs": [
        {
          "output_type": "execute_result",
          "data": {
            "text/plain": [
              "array([[5, 6],\n",
              "       [8, 9]])"
            ]
          },
          "metadata": {
            "tags": []
          },
          "execution_count": 39
        }
      ]
    },
    {
      "cell_type": "code",
      "metadata": {
        "colab": {
          "base_uri": "https://localhost:8080/"
        },
        "id": "aCWA7rK-DVX3",
        "outputId": "f6e395b6-c615-483a-cd71-52fdeb00724c"
      },
      "source": [
        "m01_reducida22 = np.delete(np.delete(m01,1,0),1,1)\r\n",
        "m01_reducida22"
      ],
      "execution_count": 40,
      "outputs": [
        {
          "output_type": "execute_result",
          "data": {
            "text/plain": [
              "array([[1, 3],\n",
              "       [7, 9]])"
            ]
          },
          "metadata": {
            "tags": []
          },
          "execution_count": 40
        }
      ]
    },
    {
      "cell_type": "code",
      "metadata": {
        "colab": {
          "base_uri": "https://localhost:8080/"
        },
        "id": "1rVSqtb6Dwx-",
        "outputId": "10e5184e-c871-4346-f90d-bec821534598"
      },
      "source": [
        "m01_reducida31 = np.delete(np.delete(m01,2,0),0,1)\r\n",
        "m01_reducida31"
      ],
      "execution_count": 41,
      "outputs": [
        {
          "output_type": "execute_result",
          "data": {
            "text/plain": [
              "array([[2, 3],\n",
              "       [5, 6]])"
            ]
          },
          "metadata": {
            "tags": []
          },
          "execution_count": 41
        }
      ]
    },
    {
      "cell_type": "markdown",
      "metadata": {
        "id": "eib6NRGfOAxQ"
      },
      "source": [
        "**PAR O IMPAR**"
      ]
    },
    {
      "cell_type": "code",
      "metadata": {
        "colab": {
          "base_uri": "https://localhost:8080/"
        },
        "id": "mO4lX413OJUd",
        "outputId": "9e0ec63b-2b9e-4fb9-b1e1-f9da69600327"
      },
      "source": [
        "4%3"
      ],
      "execution_count": 42,
      "outputs": [
        {
          "output_type": "execute_result",
          "data": {
            "text/plain": [
              "1"
            ]
          },
          "metadata": {
            "tags": []
          },
          "execution_count": 42
        }
      ]
    },
    {
      "cell_type": "code",
      "metadata": {
        "id": "w7U5bmtRPMi2"
      },
      "source": [
        "def par_impar(a):\r\n",
        "  if(a%2 == 0):\r\n",
        "    return print(\"Es Par\")\r\n",
        "  elif(a%2 ==1 ):\r\n",
        "    return print(\"Es impar\")"
      ],
      "execution_count": 43,
      "outputs": []
    },
    {
      "cell_type": "code",
      "metadata": {
        "colab": {
          "base_uri": "https://localhost:8080/"
        },
        "id": "dYpPTtViQweC",
        "outputId": "3db695d7-5c81-4056-8d52-6f246b5060ea"
      },
      "source": [
        "par_impar(19382741)"
      ],
      "execution_count": 44,
      "outputs": [
        {
          "output_type": "stream",
          "text": [
            "Es impar\n"
          ],
          "name": "stdout"
        }
      ]
    },
    {
      "cell_type": "code",
      "metadata": {
        "id": "PHLiwVmAQ6u5"
      },
      "source": [
        "def par_impar_matriz(i,j):\r\n",
        "  if( (i+j)%2 == 0):\r\n",
        "    return 1\r\n",
        "  elif( (i+j)%2 == 1 ):\r\n",
        "    return -1\r\n",
        "\r\n"
      ],
      "execution_count": 45,
      "outputs": []
    },
    {
      "cell_type": "code",
      "metadata": {
        "colab": {
          "base_uri": "https://localhost:8080/"
        },
        "id": "jDW1l3M4RjzR",
        "outputId": "1a28dff3-707b-47e4-c889-8a1f53a023f6"
      },
      "source": [
        "par_impar_matriz(30,27)"
      ],
      "execution_count": 46,
      "outputs": [
        {
          "output_type": "execute_result",
          "data": {
            "text/plain": [
              "-1"
            ]
          },
          "metadata": {
            "tags": []
          },
          "execution_count": 46
        }
      ]
    },
    {
      "cell_type": "code",
      "metadata": {
        "id": "7w5P-h2Da1rd"
      },
      "source": [
        "##Función que Calcula la matriz de Cofactores de A de 3x3\r\n",
        "def cof(A):\r\n",
        "  if(A.shape == (3,3)):\r\n",
        "    C = np.zeros((3,3))\r\n",
        "    for i in range(C.shape[0]):\r\n",
        "      for j in range(C.shape[1]):\r\n",
        "        matriz_disminuda = np.delete(np.delete(A,i,0),j,1)\r\n",
        "        det_i_j = determiante2x2(matriz_disminuda)\r\n",
        "        signo = par_impar_matriz(i,j)\r\n",
        "        C[i][j]= signo * det_i_j \r\n",
        "    return C\r\n",
        "  else:\r\n",
        "    return print(\"Introduce una matriz de 3x3\")"
      ],
      "execution_count": 47,
      "outputs": []
    },
    {
      "cell_type": "code",
      "metadata": {
        "colab": {
          "base_uri": "https://localhost:8080/"
        },
        "id": "NpuLgxOZVnD_",
        "outputId": "059c8e69-f0c0-4727-8cd6-2c29d097b67e"
      },
      "source": [
        "cof(m01)"
      ],
      "execution_count": 48,
      "outputs": [
        {
          "output_type": "execute_result",
          "data": {
            "text/plain": [
              "array([[ -3.,   6.,  -3.],\n",
              "       [  6., -12.,   6.],\n",
              "       [ -3.,   6.,  -3.]])"
            ]
          },
          "metadata": {
            "tags": []
          },
          "execution_count": 48
        }
      ]
    },
    {
      "cell_type": "code",
      "metadata": {
        "id": "fD6pBx0Lg03S"
      },
      "source": [
        "## Calcular la matriz adjunta de A de dimension 3x3\r\n",
        "def adj(A):\r\n",
        "  if(A.shape == (3,3)): \r\n",
        "    return cof(A).T\r\n",
        "  else:\r\n",
        "    return print(\"Introduce una matriz de 3x3\")"
      ],
      "execution_count": 49,
      "outputs": []
    },
    {
      "cell_type": "code",
      "metadata": {
        "colab": {
          "base_uri": "https://localhost:8080/"
        },
        "id": "jWzjodJ1hp0Y",
        "outputId": "c7833da5-6ec5-400f-ea9b-f425660cb7a6"
      },
      "source": [
        "m02"
      ],
      "execution_count": 50,
      "outputs": [
        {
          "output_type": "execute_result",
          "data": {
            "text/plain": [
              "array([[4, 0, 3],\n",
              "       [2, 3, 0],\n",
              "       [0, 1, 2]])"
            ]
          },
          "metadata": {
            "tags": []
          },
          "execution_count": 50
        }
      ]
    },
    {
      "cell_type": "code",
      "metadata": {
        "colab": {
          "base_uri": "https://localhost:8080/"
        },
        "id": "q1oGSAcAhnm9",
        "outputId": "78aca1a8-18d1-4a19-d692-e5fc3a1865af"
      },
      "source": [
        "cof(m02)"
      ],
      "execution_count": 51,
      "outputs": [
        {
          "output_type": "execute_result",
          "data": {
            "text/plain": [
              "array([[ 6., -4.,  2.],\n",
              "       [ 3.,  8., -4.],\n",
              "       [-9.,  6., 12.]])"
            ]
          },
          "metadata": {
            "tags": []
          },
          "execution_count": 51
        }
      ]
    },
    {
      "cell_type": "code",
      "metadata": {
        "colab": {
          "base_uri": "https://localhost:8080/"
        },
        "id": "T5woV4XGhbev",
        "outputId": "4a8ec7db-ef9f-4723-873f-a321b7e50501"
      },
      "source": [
        "adj(m02)"
      ],
      "execution_count": 52,
      "outputs": [
        {
          "output_type": "execute_result",
          "data": {
            "text/plain": [
              "array([[ 6.,  3., -9.],\n",
              "       [-4.,  8.,  6.],\n",
              "       [ 2., -4., 12.]])"
            ]
          },
          "metadata": {
            "tags": []
          },
          "execution_count": 52
        }
      ]
    },
    {
      "cell_type": "code",
      "metadata": {
        "id": "kOoujEnBh0N3"
      },
      "source": [
        "##Calcular la matriz inversa de una matriz a de 3x3\r\n",
        "def inv(A):\r\n",
        "  if(A.shape ==(3,3)):\r\n",
        "    return (1/ determiante3x3(A)) * adj(A)\r\n",
        "  else:\r\n",
        "    return print(\"Introduce una matriz de 3x3\")"
      ],
      "execution_count": 53,
      "outputs": []
    },
    {
      "cell_type": "code",
      "metadata": {
        "colab": {
          "base_uri": "https://localhost:8080/"
        },
        "id": "TY475GETiVVa",
        "outputId": "8e472da3-abdc-4089-d537-e36fde2da47c"
      },
      "source": [
        "inv(m02)"
      ],
      "execution_count": 54,
      "outputs": [
        {
          "output_type": "execute_result",
          "data": {
            "text/plain": [
              "array([[ 0.2       ,  0.1       , -0.3       ],\n",
              "       [-0.13333333,  0.26666667,  0.2       ],\n",
              "       [ 0.06666667, -0.13333333,  0.4       ]])"
            ]
          },
          "metadata": {
            "tags": []
          },
          "execution_count": 54
        }
      ]
    },
    {
      "cell_type": "code",
      "metadata": {
        "colab": {
          "base_uri": "https://localhost:8080/"
        },
        "id": "B4aIWRjQign8",
        "outputId": "186e7779-25a7-42ab-8b75-beeff0ac62a1"
      },
      "source": [
        "mulMatrix(m02,inv(m02))"
      ],
      "execution_count": 55,
      "outputs": [
        {
          "output_type": "execute_result",
          "data": {
            "text/plain": [
              "array([[1.00000000e+00, 0.00000000e+00, 2.22044605e-16],\n",
              "       [0.00000000e+00, 1.00000000e+00, 1.11022302e-16],\n",
              "       [0.00000000e+00, 0.00000000e+00, 1.00000000e+00]])"
            ]
          },
          "metadata": {
            "tags": []
          },
          "execution_count": 55
        }
      ]
    }
  ]
}