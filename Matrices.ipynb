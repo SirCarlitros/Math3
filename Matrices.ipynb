{
  "nbformat": 4,
  "nbformat_minor": 0,
  "metadata": {
    "colab": {
      "name": "Matrices.ipynb",
      "provenance": [],
      "collapsed_sections": [],
      "authorship_tag": "ABX9TyPRfyvOQBYcitrW45O0gBZO",
      "include_colab_link": true
    },
    "kernelspec": {
      "name": "python3",
      "display_name": "Python 3"
    }
  },
  "cells": [
    {
      "cell_type": "markdown",
      "metadata": {
        "id": "view-in-github",
        "colab_type": "text"
      },
      "source": [
        "<a href=\"https://colab.research.google.com/github/SirCarlitros/Math3/blob/main/Matrices.ipynb\" target=\"_parent\"><img src=\"https://colab.research.google.com/assets/colab-badge.svg\" alt=\"Open In Colab\"/></a>"
      ]
    },
    {
      "cell_type": "code",
      "metadata": {
        "id": "5b9JQHeMJgAq"
      },
      "source": [
        "import numpy as np"
      ],
      "execution_count": 1,
      "outputs": []
    },
    {
      "cell_type": "code",
      "metadata": {
        "id": "paNrc7cZJmop"
      },
      "source": [
        "array = np.array([1,2,3,4,5,6,7])"
      ],
      "execution_count": 2,
      "outputs": []
    },
    {
      "cell_type": "code",
      "metadata": {
        "id": "C7PzLRDgKl6E"
      },
      "source": [
        "matrix01 = np.array([[1,2,3],[5,6,8],[9,10,11]])\r\n",
        "matrix02 = np.array([[0,0,0],[2,2,2],[1,1,1]])"
      ],
      "execution_count": 3,
      "outputs": []
    },
    {
      "cell_type": "code",
      "metadata": {
        "colab": {
          "base_uri": "https://localhost:8080/"
        },
        "id": "HuNVogTeKEwt",
        "outputId": "844058fb-a827-4dec-f78f-22ec2fbd8796"
      },
      "source": [
        "array.shape"
      ],
      "execution_count": 4,
      "outputs": [
        {
          "output_type": "execute_result",
          "data": {
            "text/plain": [
              "(7,)"
            ]
          },
          "metadata": {
            "tags": []
          },
          "execution_count": 4
        }
      ]
    },
    {
      "cell_type": "code",
      "metadata": {
        "colab": {
          "base_uri": "https://localhost:8080/"
        },
        "id": "YpD2YdMQK1WF",
        "outputId": "6892ff77-857f-442e-b694-694a207f05db"
      },
      "source": [
        "matrix01.shape"
      ],
      "execution_count": 5,
      "outputs": [
        {
          "output_type": "execute_result",
          "data": {
            "text/plain": [
              "(3, 3)"
            ]
          },
          "metadata": {
            "tags": []
          },
          "execution_count": 5
        }
      ]
    },
    {
      "cell_type": "code",
      "metadata": {
        "colab": {
          "base_uri": "https://localhost:8080/"
        },
        "id": "Eb1rmw-XLNmT",
        "outputId": "37048b3a-19ff-45e5-d693-11af66631324"
      },
      "source": [
        "matrix02.shape"
      ],
      "execution_count": 6,
      "outputs": [
        {
          "output_type": "execute_result",
          "data": {
            "text/plain": [
              "(3, 3)"
            ]
          },
          "metadata": {
            "tags": []
          },
          "execution_count": 6
        }
      ]
    },
    {
      "cell_type": "code",
      "metadata": {
        "id": "tnL1vfBgLQie"
      },
      "source": [
        "matrix03 = matrix01 + matrix02"
      ],
      "execution_count": 7,
      "outputs": []
    },
    {
      "cell_type": "code",
      "metadata": {
        "colab": {
          "base_uri": "https://localhost:8080/"
        },
        "id": "50XEoTdwLZ29",
        "outputId": "9bfdf696-5c96-4242-8713-e86b077bd5b7"
      },
      "source": [
        "matrix01"
      ],
      "execution_count": 8,
      "outputs": [
        {
          "output_type": "execute_result",
          "data": {
            "text/plain": [
              "array([[ 1,  2,  3],\n",
              "       [ 5,  6,  8],\n",
              "       [ 9, 10, 11]])"
            ]
          },
          "metadata": {
            "tags": []
          },
          "execution_count": 8
        }
      ]
    },
    {
      "cell_type": "code",
      "metadata": {
        "colab": {
          "base_uri": "https://localhost:8080/"
        },
        "id": "k7z6pZcOLcJt",
        "outputId": "561738b0-6fc5-4ea9-8ea6-1f9cfce51b1d"
      },
      "source": [
        "matrix02"
      ],
      "execution_count": 9,
      "outputs": [
        {
          "output_type": "execute_result",
          "data": {
            "text/plain": [
              "array([[0, 0, 0],\n",
              "       [2, 2, 2],\n",
              "       [1, 1, 1]])"
            ]
          },
          "metadata": {
            "tags": []
          },
          "execution_count": 9
        }
      ]
    },
    {
      "cell_type": "code",
      "metadata": {
        "colab": {
          "base_uri": "https://localhost:8080/"
        },
        "id": "i7-_uDgmLW4M",
        "outputId": "6743ac7f-bf99-4801-ad4c-58f1e22e2b69"
      },
      "source": [
        "matrix03"
      ],
      "execution_count": 10,
      "outputs": [
        {
          "output_type": "execute_result",
          "data": {
            "text/plain": [
              "array([[ 1,  2,  3],\n",
              "       [ 7,  8, 10],\n",
              "       [10, 11, 12]])"
            ]
          },
          "metadata": {
            "tags": []
          },
          "execution_count": 10
        }
      ]
    },
    {
      "cell_type": "code",
      "metadata": {
        "colab": {
          "base_uri": "https://localhost:8080/"
        },
        "id": "SkGXZZevLmFr",
        "outputId": "ed6c63b8-74f8-48b4-e550-358b22a06121"
      },
      "source": [
        "matrix01.shape[1]"
      ],
      "execution_count": 11,
      "outputs": [
        {
          "output_type": "execute_result",
          "data": {
            "text/plain": [
              "3"
            ]
          },
          "metadata": {
            "tags": []
          },
          "execution_count": 11
        }
      ]
    },
    {
      "cell_type": "code",
      "metadata": {
        "id": "TczasWWlMp2F"
      },
      "source": [
        "ceros = np.zeros((5,3))"
      ],
      "execution_count": 12,
      "outputs": []
    },
    {
      "cell_type": "code",
      "metadata": {
        "colab": {
          "base_uri": "https://localhost:8080/"
        },
        "id": "YOA4WiVtMwv0",
        "outputId": "3c9ba7f9-f47b-4e9d-c325-e013e4ebd5f2"
      },
      "source": [
        "ceros"
      ],
      "execution_count": 13,
      "outputs": [
        {
          "output_type": "execute_result",
          "data": {
            "text/plain": [
              "array([[0., 0., 0.],\n",
              "       [0., 0., 0.],\n",
              "       [0., 0., 0.],\n",
              "       [0., 0., 0.],\n",
              "       [0., 0., 0.]])"
            ]
          },
          "metadata": {
            "tags": []
          },
          "execution_count": 13
        }
      ]
    },
    {
      "cell_type": "code",
      "metadata": {
        "id": "bGffwxRnMEta"
      },
      "source": [
        "def sumaMatrix(A,B):\r\n",
        "  if(A.shape == B.shape):\r\n",
        "    C = np.zeros(A.shape)\r\n",
        "    for i in range(A.shape[0]):\r\n",
        "      for j in range(A.shape[1]):\r\n",
        "        C[i][j] = A[i][j] + B[i][j]\r\n",
        "    return C\r\n",
        "  else:\r\n",
        "    print(\"Dimensiones No Coinciden\")\r\n"
      ],
      "execution_count": 14,
      "outputs": []
    },
    {
      "cell_type": "code",
      "metadata": {
        "id": "KBHZZ9GQ3xBu"
      },
      "source": [
        "def restaMatrix(A,B):\r\n",
        "  if(A.shape == B.shape):\r\n",
        "    C = np.zeros(A.shape)\r\n",
        "    for i in range(A.shape[0]):\r\n",
        "      for j in range(A.shape[1]):\r\n",
        "        C[i][j] = A[i][j] - B[i][j]\r\n",
        "    return C\r\n",
        "  else:\r\n",
        "    print(\"Dimensiones No Coinciden\")"
      ],
      "execution_count": 15,
      "outputs": []
    },
    {
      "cell_type": "code",
      "metadata": {
        "id": "VGPStYm50Mml"
      },
      "source": [
        ""
      ],
      "execution_count": 15,
      "outputs": []
    },
    {
      "cell_type": "code",
      "metadata": {
        "colab": {
          "base_uri": "https://localhost:8080/"
        },
        "id": "FL3m3JhxOHXw",
        "outputId": "d5ece720-8d88-48b1-c2cc-d42cb8151a32"
      },
      "source": [
        "sumaMatrix(matrix01,matrix02)"
      ],
      "execution_count": 16,
      "outputs": [
        {
          "output_type": "execute_result",
          "data": {
            "text/plain": [
              "array([[ 1.,  2.,  3.],\n",
              "       [ 7.,  8., 10.],\n",
              "       [10., 11., 12.]])"
            ]
          },
          "metadata": {
            "tags": []
          },
          "execution_count": 16
        }
      ]
    },
    {
      "cell_type": "code",
      "metadata": {
        "id": "4SA8DEFcOieP"
      },
      "source": [
        "def mulMatrix(A,B):\r\n",
        "  if(A.shape[1] == B.shape[0]):\r\n",
        "    C = np.zeros((A.shape[0],B.shape[1]))\r\n",
        "    for i in range(C.shape[0]):\r\n",
        "      for j in range(C.shape[1]):\r\n",
        "        for k in range(A.shape[1]):\r\n",
        "          C[i][j] += A[i][k]*B[k][j] \r\n",
        "    return C\r\n",
        "  else:\r\n",
        "    print(\"No esta definida la multiplicación para estas dimensiones\")"
      ],
      "execution_count": 17,
      "outputs": []
    },
    {
      "cell_type": "code",
      "metadata": {
        "id": "gj2bxiD2OVrB"
      },
      "source": [
        "def mulMatrix2(A,B):\r\n",
        "  if(A.shape[1] == B.shape[0]):\r\n",
        "    C = np.zeros((A.shape[0],B.shape[1]))\r\n",
        "    for i in range(C.shape[0]):\r\n",
        "      for j in range(C.shape[1]):\r\n",
        "          C[i][j] = (A[i]*B.T[j]).sum()   \r\n",
        "    return C\r\n",
        "  else:\r\n",
        "    print(\"No esta definida la multiplicación para estas dimensiones\")"
      ],
      "execution_count": 18,
      "outputs": []
    },
    {
      "cell_type": "code",
      "metadata": {
        "id": "7iVklHTDOyux"
      },
      "source": [
        "matrix04 = np.array([[1,2,3],[4,5,6],[7,8,9]])"
      ],
      "execution_count": 19,
      "outputs": []
    },
    {
      "cell_type": "code",
      "metadata": {
        "colab": {
          "base_uri": "https://localhost:8080/"
        },
        "id": "0DWV0UC2Sz5s",
        "outputId": "38e90f89-df08-4855-915e-d6ebd30a8405"
      },
      "source": [
        "matrix04.shape"
      ],
      "execution_count": 20,
      "outputs": [
        {
          "output_type": "execute_result",
          "data": {
            "text/plain": [
              "(3, 3)"
            ]
          },
          "metadata": {
            "tags": []
          },
          "execution_count": 20
        }
      ]
    },
    {
      "cell_type": "code",
      "metadata": {
        "colab": {
          "base_uri": "https://localhost:8080/"
        },
        "id": "ZOn9mzTKVenP",
        "outputId": "b398640e-b23a-4848-ebf8-4e96bcc78f18"
      },
      "source": [
        "matrix04[1].sum()"
      ],
      "execution_count": 21,
      "outputs": [
        {
          "output_type": "execute_result",
          "data": {
            "text/plain": [
              "15"
            ]
          },
          "metadata": {
            "tags": []
          },
          "execution_count": 21
        }
      ]
    },
    {
      "cell_type": "code",
      "metadata": {
        "colab": {
          "base_uri": "https://localhost:8080/"
        },
        "id": "wf26QowmS_Vx",
        "outputId": "d270f335-1a33-4fbd-f90e-6653503717c5"
      },
      "source": [
        "matrix04[2]* matrix04[0]"
      ],
      "execution_count": 22,
      "outputs": [
        {
          "output_type": "execute_result",
          "data": {
            "text/plain": [
              "array([ 7, 16, 27])"
            ]
          },
          "metadata": {
            "tags": []
          },
          "execution_count": 22
        }
      ]
    },
    {
      "cell_type": "code",
      "metadata": {
        "id": "HjNAguZlPEWb"
      },
      "source": [
        "matrix04T = matrix04.T"
      ],
      "execution_count": 23,
      "outputs": []
    },
    {
      "cell_type": "code",
      "metadata": {
        "colab": {
          "base_uri": "https://localhost:8080/"
        },
        "id": "LdQCLuhjRqyO",
        "outputId": "b42ef9ee-b033-4459-cc45-99df1215b3bc"
      },
      "source": [
        "matrix04T"
      ],
      "execution_count": 24,
      "outputs": [
        {
          "output_type": "execute_result",
          "data": {
            "text/plain": [
              "array([[1, 4, 7],\n",
              "       [2, 5, 8],\n",
              "       [3, 6, 9]])"
            ]
          },
          "metadata": {
            "tags": []
          },
          "execution_count": 24
        }
      ]
    },
    {
      "cell_type": "code",
      "metadata": {
        "colab": {
          "base_uri": "https://localhost:8080/"
        },
        "id": "wg1sgAmLUXu8",
        "outputId": "05942943-5510-4520-a60f-5b4f1d5e5902"
      },
      "source": [
        "mulMatrix2(matrix01,matrix02)"
      ],
      "execution_count": 25,
      "outputs": [
        {
          "output_type": "execute_result",
          "data": {
            "text/plain": [
              "array([[ 7.,  7.,  7.],\n",
              "       [20., 20., 20.],\n",
              "       [31., 31., 31.]])"
            ]
          },
          "metadata": {
            "tags": []
          },
          "execution_count": 25
        }
      ]
    },
    {
      "cell_type": "code",
      "metadata": {
        "colab": {
          "base_uri": "https://localhost:8080/"
        },
        "id": "QpWnZ_oSQFeF",
        "outputId": "3b5cd8fc-c984-4afc-8dc4-452d39b4a02d"
      },
      "source": [
        "mulMatrix(matrix01,matrix02)"
      ],
      "execution_count": 26,
      "outputs": [
        {
          "output_type": "execute_result",
          "data": {
            "text/plain": [
              "array([[ 7.,  7.,  7.],\n",
              "       [20., 20., 20.],\n",
              "       [31., 31., 31.]])"
            ]
          },
          "metadata": {
            "tags": []
          },
          "execution_count": 26
        }
      ]
    },
    {
      "cell_type": "code",
      "metadata": {
        "id": "fTRqYrdCQQAA",
        "colab": {
          "base_uri": "https://localhost:8080/"
        },
        "outputId": "b900f5ea-f955-4830-f0d6-cdddc46d75ec"
      },
      "source": [
        "np.matmul(matrix01,matrix02)"
      ],
      "execution_count": 27,
      "outputs": [
        {
          "output_type": "execute_result",
          "data": {
            "text/plain": [
              "array([[ 7,  7,  7],\n",
              "       [20, 20, 20],\n",
              "       [31, 31, 31]])"
            ]
          },
          "metadata": {
            "tags": []
          },
          "execution_count": 27
        }
      ]
    },
    {
      "cell_type": "code",
      "metadata": {
        "id": "thGuupaPziT-"
      },
      "source": [
        ""
      ],
      "execution_count": 27,
      "outputs": []
    },
    {
      "cell_type": "markdown",
      "metadata": {
        "id": "Kf_3DjSk0RNu"
      },
      "source": [
        "**Solución de Tarea**"
      ]
    },
    {
      "cell_type": "code",
      "metadata": {
        "id": "RSegnDBV0Uto"
      },
      "source": [
        "m01 = np.array([[1,2,3],[4,5,6],[7,8,9]])\r\n",
        "m02 = np.array([[4,0,3],[2,3,0],[0,1,2]])\r\n",
        "m03 = np.array([[0,0,1],[1,0,0],[0,1,0]])\r\n",
        "m04 = np.array([[0,0,1],[1,1,1],[1,1,1]])\r\n",
        "m05 = np.array([[0,0,1],[1,0,0],[0,1,0]])"
      ],
      "execution_count": 28,
      "outputs": []
    },
    {
      "cell_type": "code",
      "metadata": {
        "colab": {
          "base_uri": "https://localhost:8080/"
        },
        "id": "40Rp_YOt1CZg",
        "outputId": "63636c09-d479-403b-eee6-86f80a7e0675"
      },
      "source": [
        "sumaMatrix(  sumaMatrix(sumaMatrix(sumaMatrix(m01,m02),m03),m04),m05)"
      ],
      "execution_count": 29,
      "outputs": [
        {
          "output_type": "execute_result",
          "data": {
            "text/plain": [
              "array([[ 5.,  2.,  9.],\n",
              "       [ 9.,  9.,  7.],\n",
              "       [ 8., 12., 12.]])"
            ]
          },
          "metadata": {
            "tags": []
          },
          "execution_count": 29
        }
      ]
    },
    {
      "cell_type": "code",
      "metadata": {
        "colab": {
          "base_uri": "https://localhost:8080/"
        },
        "id": "UPEw3MFH0kVN",
        "outputId": "8dc59482-dec0-49fe-f154-22dd376b65f6"
      },
      "source": [
        "sumaMatrix(restaMatrix(restaMatrix( sumaMatrix(m01,m02),m03),m04),m05)"
      ],
      "execution_count": 30,
      "outputs": [
        {
          "output_type": "execute_result",
          "data": {
            "text/plain": [
              "array([[ 5.,  2.,  5.],\n",
              "       [ 5.,  7.,  5.],\n",
              "       [ 6.,  8., 10.]])"
            ]
          },
          "metadata": {
            "tags": []
          },
          "execution_count": 30
        }
      ]
    },
    {
      "cell_type": "code",
      "metadata": {
        "id": "QK65RSv662At"
      },
      "source": [
        "def determiante2x2(A):\r\n",
        "  if(A.shape == (2,2)):\r\n",
        "    return A[0][0]* A[1][1] - A[0][1] *A[1][0]\r\n",
        "  else:\r\n",
        "    return print(\"No es del rango solicitado\")"
      ],
      "execution_count": 31,
      "outputs": []
    },
    {
      "cell_type": "code",
      "metadata": {
        "id": "wFuGXuIm755Y"
      },
      "source": [
        "m06 = np.array([[10,22],[15,5]])"
      ],
      "execution_count": 32,
      "outputs": []
    },
    {
      "cell_type": "code",
      "metadata": {
        "colab": {
          "base_uri": "https://localhost:8080/"
        },
        "id": "39wtBnQk8BHW",
        "outputId": "c3026afc-d0c5-41a9-df3b-425a3ac79efe"
      },
      "source": [
        "determiante2x2(m06)"
      ],
      "execution_count": 33,
      "outputs": [
        {
          "output_type": "execute_result",
          "data": {
            "text/plain": [
              "-280"
            ]
          },
          "metadata": {
            "tags": []
          },
          "execution_count": 33
        }
      ]
    },
    {
      "cell_type": "code",
      "metadata": {
        "colab": {
          "base_uri": "https://localhost:8080/"
        },
        "id": "LUz40Frd-9Xg",
        "outputId": "b19f5b38-01b8-44b9-9e40-7803a0fde3cf"
      },
      "source": [
        "determiante2x2(m01)"
      ],
      "execution_count": 34,
      "outputs": [
        {
          "output_type": "stream",
          "text": [
            "No es del rango solicitado\n"
          ],
          "name": "stdout"
        }
      ]
    },
    {
      "cell_type": "code",
      "metadata": {
        "id": "8gFMHM7sEWka"
      },
      "source": [
        "a = (\"hola\",\"mundo\")\r\n",
        "b =(1,2,3,4)"
      ],
      "execution_count": 35,
      "outputs": []
    },
    {
      "cell_type": "code",
      "metadata": {
        "id": "btfB5_hm_J26"
      },
      "source": [
        "def determiante3x3(A):\r\n",
        "  if(A.shape == (3,3)):\r\n",
        "    return A[0][0] * determiante2x2(np.delete(np.delete(A,0,0),0,1)) - A[0][1] * determiante2x2(np.delete(np.delete(A,0,0),1,1)) + A[0][2] * determiante2x2(np.delete(np.delete(A,0,0),2,1)) \r\n",
        "  else:\r\n",
        "    print(\"Introduzca una matriz de 3x3\")\r\n"
      ],
      "execution_count": 36,
      "outputs": []
    },
    {
      "cell_type": "code",
      "metadata": {
        "id": "wwLL9hrxGy1o",
        "colab": {
          "base_uri": "https://localhost:8080/"
        },
        "outputId": "81f768f1-3aea-48b9-b594-0846d9f8402d"
      },
      "source": [
        "determiante3x3(m01)"
      ],
      "execution_count": 37,
      "outputs": [
        {
          "output_type": "execute_result",
          "data": {
            "text/plain": [
              "0"
            ]
          },
          "metadata": {
            "tags": []
          },
          "execution_count": 37
        }
      ]
    },
    {
      "cell_type": "markdown",
      "metadata": {
        "id": "2wrNj1yeAICr"
      },
      "source": [
        "**¿Cómo obtener matrices Reducidas**"
      ]
    },
    {
      "cell_type": "code",
      "metadata": {
        "colab": {
          "base_uri": "https://localhost:8080/"
        },
        "id": "vYx9q7U6AMtV",
        "outputId": "ff64b3e0-23b6-41d1-a1d0-faf105723b9d"
      },
      "source": [
        "m01"
      ],
      "execution_count": 38,
      "outputs": [
        {
          "output_type": "execute_result",
          "data": {
            "text/plain": [
              "array([[1, 2, 3],\n",
              "       [4, 5, 6],\n",
              "       [7, 8, 9]])"
            ]
          },
          "metadata": {
            "tags": []
          },
          "execution_count": 38
        }
      ]
    },
    {
      "cell_type": "code",
      "metadata": {
        "colab": {
          "base_uri": "https://localhost:8080/"
        },
        "id": "ecoHpBBAAOcJ",
        "outputId": "21a207b8-ee2b-4aa3-9aab-8168ca266f92"
      },
      "source": [
        "m01_reducida11 = np.delete(np.delete(m01,0,0),0,1)\r\n",
        "m01_reducida11"
      ],
      "execution_count": 39,
      "outputs": [
        {
          "output_type": "execute_result",
          "data": {
            "text/plain": [
              "array([[5, 6],\n",
              "       [8, 9]])"
            ]
          },
          "metadata": {
            "tags": []
          },
          "execution_count": 39
        }
      ]
    },
    {
      "cell_type": "code",
      "metadata": {
        "colab": {
          "base_uri": "https://localhost:8080/"
        },
        "id": "aCWA7rK-DVX3",
        "outputId": "b932b5f7-fd15-49da-dcaf-52e6766bd3c0"
      },
      "source": [
        "m01_reducida22 = np.delete(np.delete(m01,1,0),1,1)\r\n",
        "m01_reducida22"
      ],
      "execution_count": 40,
      "outputs": [
        {
          "output_type": "execute_result",
          "data": {
            "text/plain": [
              "array([[1, 3],\n",
              "       [7, 9]])"
            ]
          },
          "metadata": {
            "tags": []
          },
          "execution_count": 40
        }
      ]
    },
    {
      "cell_type": "code",
      "metadata": {
        "colab": {
          "base_uri": "https://localhost:8080/"
        },
        "id": "1rVSqtb6Dwx-",
        "outputId": "9051854b-002a-4254-e746-412c2e0caaad"
      },
      "source": [
        "m01_reducida31 = np.delete(np.delete(m01,2,0),0,1)\r\n",
        "m01_reducida31"
      ],
      "execution_count": 41,
      "outputs": [
        {
          "output_type": "execute_result",
          "data": {
            "text/plain": [
              "array([[2, 3],\n",
              "       [5, 6]])"
            ]
          },
          "metadata": {
            "tags": []
          },
          "execution_count": 41
        }
      ]
    },
    {
      "cell_type": "markdown",
      "metadata": {
        "id": "eib6NRGfOAxQ"
      },
      "source": [
        "**PAR O IMPAR**"
      ]
    },
    {
      "cell_type": "code",
      "metadata": {
        "colab": {
          "base_uri": "https://localhost:8080/"
        },
        "id": "mO4lX413OJUd",
        "outputId": "99018886-e308-422b-c50e-6caf125d9ac6"
      },
      "source": [
        "4%3"
      ],
      "execution_count": 42,
      "outputs": [
        {
          "output_type": "execute_result",
          "data": {
            "text/plain": [
              "1"
            ]
          },
          "metadata": {
            "tags": []
          },
          "execution_count": 42
        }
      ]
    },
    {
      "cell_type": "code",
      "metadata": {
        "id": "w7U5bmtRPMi2"
      },
      "source": [
        "def par_impar(a):\r\n",
        "  if(a%2 == 0):\r\n",
        "    return print(\"Es Par\")\r\n",
        "  elif(a%2 ==1 ):\r\n",
        "    return print(\"Es impar\")"
      ],
      "execution_count": 43,
      "outputs": []
    },
    {
      "cell_type": "code",
      "metadata": {
        "colab": {
          "base_uri": "https://localhost:8080/"
        },
        "id": "dYpPTtViQweC",
        "outputId": "94682bb2-2e4d-4641-8cf9-7242e083d626"
      },
      "source": [
        "par_impar(19382741)"
      ],
      "execution_count": 44,
      "outputs": [
        {
          "output_type": "stream",
          "text": [
            "Es impar\n"
          ],
          "name": "stdout"
        }
      ]
    },
    {
      "cell_type": "code",
      "metadata": {
        "id": "PHLiwVmAQ6u5"
      },
      "source": [
        "def par_impar_matriz(i,j):\r\n",
        "  if( (i+j)%2 == 0):\r\n",
        "    return 1\r\n",
        "  elif( (i+j)%2 == 1 ):\r\n",
        "    return -1\r\n",
        "\r\n"
      ],
      "execution_count": 48,
      "outputs": []
    },
    {
      "cell_type": "code",
      "metadata": {
        "colab": {
          "base_uri": "https://localhost:8080/"
        },
        "id": "jDW1l3M4RjzR",
        "outputId": "5861c95f-5845-48d2-e1ba-231880c35063"
      },
      "source": [
        "par_impar_matriz(30,27)"
      ],
      "execution_count": 46,
      "outputs": [
        {
          "output_type": "stream",
          "text": [
            "Es negativo\n"
          ],
          "name": "stdout"
        }
      ]
    },
    {
      "cell_type": "code",
      "metadata": {
        "id": "7w5P-h2Da1rd"
      },
      "source": [
        "##Función que Calcula la matriz de Cofactores de A de 3x3\r\n",
        "def cof(A):\r\n",
        "  if(A.shape == (3,3)):\r\n",
        "    C = np.zeros((3,3))\r\n",
        "    for i in range(C.shape[0]):\r\n",
        "      for j in range(C.shape[1]):\r\n",
        "        matriz_disminuda = np.delete(np.delete(A,i,0),j,1)\r\n",
        "        det_i_j = determiante2x2(matriz_disminuda)\r\n",
        "        signo = par_impar_matriz(i,j)\r\n",
        "        C[i][j]= signo * det_i_j \r\n",
        "    return C\r\n",
        "  else:\r\n",
        "    return print(\"Introduce una matriz de 3x3\")"
      ],
      "execution_count": 51,
      "outputs": []
    },
    {
      "cell_type": "code",
      "metadata": {
        "colab": {
          "base_uri": "https://localhost:8080/"
        },
        "id": "NpuLgxOZVnD_",
        "outputId": "8a4ea685-39f6-4deb-bc5e-e1ef4f8b51a6"
      },
      "source": [
        "cof(m01)"
      ],
      "execution_count": 52,
      "outputs": [
        {
          "output_type": "execute_result",
          "data": {
            "text/plain": [
              "array([[ -3.,   6.,  -3.],\n",
              "       [  6., -12.,   6.],\n",
              "       [ -3.,   6.,  -3.]])"
            ]
          },
          "metadata": {
            "tags": []
          },
          "execution_count": 52
        }
      ]
    },
    {
      "cell_type": "code",
      "metadata": {
        "id": "fD6pBx0Lg03S"
      },
      "source": [
        "## Calcular la matriz adjunta de A de dimension 3x3\r\n",
        "def adj(A):\r\n",
        "  if(A.shape == (3,3)): \r\n",
        "    return cof(A).T\r\n",
        "  else:\r\n",
        "    return print(\"Introduce una matriz de 3x3\")"
      ],
      "execution_count": 53,
      "outputs": []
    },
    {
      "cell_type": "code",
      "metadata": {
        "colab": {
          "base_uri": "https://localhost:8080/"
        },
        "id": "jWzjodJ1hp0Y",
        "outputId": "c0650e1a-d9dc-426a-fda1-fb79981602f9"
      },
      "source": [
        "m02"
      ],
      "execution_count": 58,
      "outputs": [
        {
          "output_type": "execute_result",
          "data": {
            "text/plain": [
              "array([[4, 0, 3],\n",
              "       [2, 3, 0],\n",
              "       [0, 1, 2]])"
            ]
          },
          "metadata": {
            "tags": []
          },
          "execution_count": 58
        }
      ]
    },
    {
      "cell_type": "code",
      "metadata": {
        "colab": {
          "base_uri": "https://localhost:8080/"
        },
        "id": "q1oGSAcAhnm9",
        "outputId": "a9efbfd0-e4a7-40a5-fa17-03864cfb4dc8"
      },
      "source": [
        "cof(m02)"
      ],
      "execution_count": 57,
      "outputs": [
        {
          "output_type": "execute_result",
          "data": {
            "text/plain": [
              "array([[ 6., -4.,  2.],\n",
              "       [ 3.,  8., -4.],\n",
              "       [-9.,  6., 12.]])"
            ]
          },
          "metadata": {
            "tags": []
          },
          "execution_count": 57
        }
      ]
    },
    {
      "cell_type": "code",
      "metadata": {
        "colab": {
          "base_uri": "https://localhost:8080/"
        },
        "id": "T5woV4XGhbev",
        "outputId": "4dd181ba-3e3e-4f5d-ebe3-6f102445894a"
      },
      "source": [
        "adj(m02)"
      ],
      "execution_count": 56,
      "outputs": [
        {
          "output_type": "execute_result",
          "data": {
            "text/plain": [
              "array([[ 6.,  3., -9.],\n",
              "       [-4.,  8.,  6.],\n",
              "       [ 2., -4., 12.]])"
            ]
          },
          "metadata": {
            "tags": []
          },
          "execution_count": 56
        }
      ]
    },
    {
      "cell_type": "code",
      "metadata": {
        "id": "kOoujEnBh0N3"
      },
      "source": [
        "##Calcular la matriz inversa de una matriz a de 3x3\r\n",
        "def inv(A):\r\n",
        "  if(A.shape ==(3,3)):\r\n",
        "    return (1/ determiante3x3(A)) * adj(A)\r\n",
        "  else:\r\n",
        "    return print(\"Introduce una matriz de 3x3\")"
      ],
      "execution_count": 59,
      "outputs": []
    },
    {
      "cell_type": "code",
      "metadata": {
        "colab": {
          "base_uri": "https://localhost:8080/"
        },
        "id": "TY475GETiVVa",
        "outputId": "f07c1a8a-dc63-415b-f2ad-c4dbb24f0785"
      },
      "source": [
        "inv(m02)"
      ],
      "execution_count": 60,
      "outputs": [
        {
          "output_type": "execute_result",
          "data": {
            "text/plain": [
              "array([[ 0.2       ,  0.1       , -0.3       ],\n",
              "       [-0.13333333,  0.26666667,  0.2       ],\n",
              "       [ 0.06666667, -0.13333333,  0.4       ]])"
            ]
          },
          "metadata": {
            "tags": []
          },
          "execution_count": 60
        }
      ]
    },
    {
      "cell_type": "code",
      "metadata": {
        "colab": {
          "base_uri": "https://localhost:8080/"
        },
        "id": "B4aIWRjQign8",
        "outputId": "44122d55-6d70-4d95-b8d7-c51d3469071d"
      },
      "source": [
        "mulMatrix(m02,inv(m02))"
      ],
      "execution_count": 61,
      "outputs": [
        {
          "output_type": "execute_result",
          "data": {
            "text/plain": [
              "array([[1.00000000e+00, 0.00000000e+00, 2.22044605e-16],\n",
              "       [0.00000000e+00, 1.00000000e+00, 1.11022302e-16],\n",
              "       [0.00000000e+00, 0.00000000e+00, 1.00000000e+00]])"
            ]
          },
          "metadata": {
            "tags": []
          },
          "execution_count": 61
        }
      ]
    }
  ]
}