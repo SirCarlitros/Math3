{
  "nbformat": 4,
  "nbformat_minor": 0,
  "metadata": {
    "colab": {
      "name": "Matrices.ipynb",
      "provenance": [],
      "authorship_tag": "ABX9TyPbqDEwSY2fP/wjpl97gWgo",
      "include_colab_link": true
    },
    "kernelspec": {
      "name": "python3",
      "display_name": "Python 3"
    }
  },
  "cells": [
    {
      "cell_type": "markdown",
      "metadata": {
        "id": "view-in-github",
        "colab_type": "text"
      },
      "source": [
        "<a href=\"https://colab.research.google.com/github/SirCarlitros/Math3/blob/main/Matrices.ipynb\" target=\"_parent\"><img src=\"https://colab.research.google.com/assets/colab-badge.svg\" alt=\"Open In Colab\"/></a>"
      ]
    },
    {
      "cell_type": "code",
      "metadata": {
        "id": "5b9JQHeMJgAq"
      },
      "source": [
        "import numpy as np"
      ],
      "execution_count": null,
      "outputs": []
    },
    {
      "cell_type": "code",
      "metadata": {
        "id": "paNrc7cZJmop"
      },
      "source": [
        "array = np.array([1,2,3,4,5,6,7])"
      ],
      "execution_count": null,
      "outputs": []
    },
    {
      "cell_type": "code",
      "metadata": {
        "id": "C7PzLRDgKl6E"
      },
      "source": [
        "matrix01 = np.array([[1,2,3],[5,6,8],[9,10,11]])\r\n",
        "matrix02 = np.array([[0,0,0],[2,2,2],[1,1,1]])"
      ],
      "execution_count": null,
      "outputs": []
    },
    {
      "cell_type": "code",
      "metadata": {
        "colab": {
          "base_uri": "https://localhost:8080/"
        },
        "id": "HuNVogTeKEwt",
        "outputId": "4019cc0a-7d1b-4ce0-cd0d-f97356dc52c3"
      },
      "source": [
        "array.shape"
      ],
      "execution_count": null,
      "outputs": [
        {
          "output_type": "execute_result",
          "data": {
            "text/plain": [
              "(7,)"
            ]
          },
          "metadata": {
            "tags": []
          },
          "execution_count": 13
        }
      ]
    },
    {
      "cell_type": "code",
      "metadata": {
        "colab": {
          "base_uri": "https://localhost:8080/"
        },
        "id": "YpD2YdMQK1WF",
        "outputId": "576ca70f-1270-49c7-9914-37a7b9a103ae"
      },
      "source": [
        "matrix01.shape"
      ],
      "execution_count": null,
      "outputs": [
        {
          "output_type": "execute_result",
          "data": {
            "text/plain": [
              "(3, 4)"
            ]
          },
          "metadata": {
            "tags": []
          },
          "execution_count": 20
        }
      ]
    },
    {
      "cell_type": "code",
      "metadata": {
        "colab": {
          "base_uri": "https://localhost:8080/"
        },
        "id": "Eb1rmw-XLNmT",
        "outputId": "3dcb711b-3f59-4df2-ba89-5601d65f9768"
      },
      "source": [
        "matrix02.shape"
      ],
      "execution_count": null,
      "outputs": [
        {
          "output_type": "execute_result",
          "data": {
            "text/plain": [
              "(3, 4)"
            ]
          },
          "metadata": {
            "tags": []
          },
          "execution_count": 21
        }
      ]
    },
    {
      "cell_type": "code",
      "metadata": {
        "id": "tnL1vfBgLQie"
      },
      "source": [
        "matrix03 = matrix01 + matrix02"
      ],
      "execution_count": null,
      "outputs": []
    },
    {
      "cell_type": "code",
      "metadata": {
        "colab": {
          "base_uri": "https://localhost:8080/"
        },
        "id": "50XEoTdwLZ29",
        "outputId": "e5915951-0ca4-40ba-af78-f96bb1221a8d"
      },
      "source": [
        "matrix01"
      ],
      "execution_count": null,
      "outputs": [
        {
          "output_type": "execute_result",
          "data": {
            "text/plain": [
              "array([[ 1,  2,  3,  4],\n",
              "       [ 5,  6,  7,  8],\n",
              "       [ 9, 10, 11, 12]])"
            ]
          },
          "metadata": {
            "tags": []
          },
          "execution_count": 24
        }
      ]
    },
    {
      "cell_type": "code",
      "metadata": {
        "colab": {
          "base_uri": "https://localhost:8080/"
        },
        "id": "k7z6pZcOLcJt",
        "outputId": "cc44d9f7-b018-48f3-a7b0-e75c9e086994"
      },
      "source": [
        "matrix02"
      ],
      "execution_count": null,
      "outputs": [
        {
          "output_type": "execute_result",
          "data": {
            "text/plain": [
              "array([[0, 0, 0, 0],\n",
              "       [2, 2, 2, 2],\n",
              "       [1, 1, 1, 1]])"
            ]
          },
          "metadata": {
            "tags": []
          },
          "execution_count": 25
        }
      ]
    },
    {
      "cell_type": "code",
      "metadata": {
        "colab": {
          "base_uri": "https://localhost:8080/"
        },
        "id": "i7-_uDgmLW4M",
        "outputId": "81c0e681-b5c4-43a8-aa3d-099af9581361"
      },
      "source": [
        "matrix03"
      ],
      "execution_count": null,
      "outputs": [
        {
          "output_type": "execute_result",
          "data": {
            "text/plain": [
              "array([[ 1,  2,  3,  4],\n",
              "       [ 7,  8,  9, 10],\n",
              "       [10, 11, 12, 13]])"
            ]
          },
          "metadata": {
            "tags": []
          },
          "execution_count": 23
        }
      ]
    },
    {
      "cell_type": "code",
      "metadata": {
        "colab": {
          "base_uri": "https://localhost:8080/"
        },
        "id": "SkGXZZevLmFr",
        "outputId": "307cb1f6-97de-4aa3-be1f-83a1b87fcac4"
      },
      "source": [
        "matrix01.shape[1]"
      ],
      "execution_count": null,
      "outputs": [
        {
          "output_type": "execute_result",
          "data": {
            "text/plain": [
              "4"
            ]
          },
          "metadata": {
            "tags": []
          },
          "execution_count": 41
        }
      ]
    },
    {
      "cell_type": "code",
      "metadata": {
        "id": "TczasWWlMp2F"
      },
      "source": [
        "ceros = np.zeros((5,3))"
      ],
      "execution_count": null,
      "outputs": []
    },
    {
      "cell_type": "code",
      "metadata": {
        "colab": {
          "base_uri": "https://localhost:8080/"
        },
        "id": "YOA4WiVtMwv0",
        "outputId": "e44acd8a-ebd6-410e-eb2c-f3f5515ce3b3"
      },
      "source": [
        "ceros"
      ],
      "execution_count": null,
      "outputs": [
        {
          "output_type": "execute_result",
          "data": {
            "text/plain": [
              "array([[0., 0., 0.],\n",
              "       [0., 0., 0.],\n",
              "       [0., 0., 0.],\n",
              "       [0., 0., 0.],\n",
              "       [0., 0., 0.]])"
            ]
          },
          "metadata": {
            "tags": []
          },
          "execution_count": 36
        }
      ]
    },
    {
      "cell_type": "code",
      "metadata": {
        "id": "bGffwxRnMEta"
      },
      "source": [
        "def sumaMatrix(A,B):\r\n",
        "  if(A.shape == B.shape):\r\n",
        "    C = np.zeros(A.shape)\r\n",
        "    for i in range(A.shape[0]):\r\n",
        "      for j in range(A.shape[1]):\r\n",
        "        C[i][j] = A[i][j] + B[i][j]\r\n",
        "    return C\r\n",
        "  else:\r\n",
        "    print(\"Dimensiones No Coinciden\")\r\n"
      ],
      "execution_count": null,
      "outputs": []
    },
    {
      "cell_type": "code",
      "metadata": {
        "colab": {
          "base_uri": "https://localhost:8080/"
        },
        "id": "FL3m3JhxOHXw",
        "outputId": "8645e06c-440f-49e1-d41d-46a2a6d4cbe5"
      },
      "source": [
        "sumaMatrix(matrix01,matrix02)"
      ],
      "execution_count": null,
      "outputs": [
        {
          "output_type": "execute_result",
          "data": {
            "text/plain": [
              "array([[ 1.,  2.,  3.,  4.],\n",
              "       [ 7.,  8.,  9., 10.],\n",
              "       [10., 11., 12., 13.]])"
            ]
          },
          "metadata": {
            "tags": []
          },
          "execution_count": 46
        }
      ]
    },
    {
      "cell_type": "code",
      "metadata": {
        "id": "4SA8DEFcOieP"
      },
      "source": [
        "def mulMatrix(A,B):\r\n",
        "  if(A.shape[1] == B.shape[0]):\r\n",
        "    C = np.zeros((A.shape[0],B.shape[1]))\r\n",
        "    for i in range(C.shape[0]):\r\n",
        "      for j in range(C.shape[1]):\r\n",
        "        for k in range(A.shape[1]):\r\n",
        "          C[i][j] += A[i][k]*B[k][j] \r\n",
        "    return C\r\n",
        "  else:\r\n",
        "    print(\"No esta definida la multiplicación para estas dimensiones\")"
      ],
      "execution_count": null,
      "outputs": []
    },
    {
      "cell_type": "code",
      "metadata": {
        "colab": {
          "base_uri": "https://localhost:8080/"
        },
        "id": "QpWnZ_oSQFeF",
        "outputId": "e2c4192c-4eef-4bad-f88a-613930826cb4"
      },
      "source": [
        "mulMatrix(matrix01,matrix02)"
      ],
      "execution_count": null,
      "outputs": [
        {
          "output_type": "execute_result",
          "data": {
            "text/plain": [
              "array([[ 7.,  7.,  7.],\n",
              "       [20., 20., 20.],\n",
              "       [31., 31., 31.]])"
            ]
          },
          "metadata": {
            "tags": []
          },
          "execution_count": 50
        }
      ]
    },
    {
      "cell_type": "code",
      "metadata": {
        "id": "fTRqYrdCQQAA",
        "colab": {
          "base_uri": "https://localhost:8080/"
        },
        "outputId": "3c87826b-7b54-4999-9e17-f7e6d9a3976c"
      },
      "source": [
        "np.matmul(matrix01,matrix02)"
      ],
      "execution_count": null,
      "outputs": [
        {
          "output_type": "execute_result",
          "data": {
            "text/plain": [
              "array([[ 7,  7,  7],\n",
              "       [20, 20, 20],\n",
              "       [31, 31, 31]])"
            ]
          },
          "metadata": {
            "tags": []
          },
          "execution_count": 51
        }
      ]
    }
  ]
}