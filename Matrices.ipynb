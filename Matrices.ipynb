{
  "nbformat": 4,
  "nbformat_minor": 0,
  "metadata": {
    "colab": {
      "name": "Matrices.ipynb",
      "provenance": [],
      "collapsed_sections": [],
      "authorship_tag": "ABX9TyOcGhg0C80rzB/BXKqRNauz",
      "include_colab_link": true
    },
    "kernelspec": {
      "name": "python3",
      "display_name": "Python 3"
    }
  },
  "cells": [
    {
      "cell_type": "markdown",
      "metadata": {
        "id": "view-in-github",
        "colab_type": "text"
      },
      "source": [
        "<a href=\"https://colab.research.google.com/github/SirCarlitros/Math3/blob/main/Matrices.ipynb\" target=\"_parent\"><img src=\"https://colab.research.google.com/assets/colab-badge.svg\" alt=\"Open In Colab\"/></a>"
      ]
    },
    {
      "cell_type": "code",
      "metadata": {
        "id": "5b9JQHeMJgAq"
      },
      "source": [
        "import numpy as np"
      ],
      "execution_count": 2,
      "outputs": []
    },
    {
      "cell_type": "code",
      "metadata": {
        "id": "paNrc7cZJmop"
      },
      "source": [
        "array = np.array([1,2,3,4,5,6,7])"
      ],
      "execution_count": 3,
      "outputs": []
    },
    {
      "cell_type": "code",
      "metadata": {
        "id": "C7PzLRDgKl6E"
      },
      "source": [
        "matrix01 = np.array([[1,2,3],[5,6,8],[9,10,11]])\r\n",
        "matrix02 = np.array([[0,0,0],[2,2,2],[1,1,1]])"
      ],
      "execution_count": 4,
      "outputs": []
    },
    {
      "cell_type": "code",
      "metadata": {
        "colab": {
          "base_uri": "https://localhost:8080/"
        },
        "id": "HuNVogTeKEwt",
        "outputId": "e577eb8d-2f8d-492a-89db-61b6f0aadf0a"
      },
      "source": [
        "array.shape"
      ],
      "execution_count": 5,
      "outputs": [
        {
          "output_type": "execute_result",
          "data": {
            "text/plain": [
              "(7,)"
            ]
          },
          "metadata": {
            "tags": []
          },
          "execution_count": 5
        }
      ]
    },
    {
      "cell_type": "code",
      "metadata": {
        "colab": {
          "base_uri": "https://localhost:8080/"
        },
        "id": "YpD2YdMQK1WF",
        "outputId": "2a82c527-5f1e-4b8b-b444-612eb800ca27"
      },
      "source": [
        "matrix01.shape"
      ],
      "execution_count": 6,
      "outputs": [
        {
          "output_type": "execute_result",
          "data": {
            "text/plain": [
              "(3, 3)"
            ]
          },
          "metadata": {
            "tags": []
          },
          "execution_count": 6
        }
      ]
    },
    {
      "cell_type": "code",
      "metadata": {
        "colab": {
          "base_uri": "https://localhost:8080/"
        },
        "id": "Eb1rmw-XLNmT",
        "outputId": "c8eeb60c-b9de-4b0c-8843-857c266b214f"
      },
      "source": [
        "matrix02.shape"
      ],
      "execution_count": 7,
      "outputs": [
        {
          "output_type": "execute_result",
          "data": {
            "text/plain": [
              "(3, 3)"
            ]
          },
          "metadata": {
            "tags": []
          },
          "execution_count": 7
        }
      ]
    },
    {
      "cell_type": "code",
      "metadata": {
        "id": "tnL1vfBgLQie"
      },
      "source": [
        "matrix03 = matrix01 + matrix02"
      ],
      "execution_count": 8,
      "outputs": []
    },
    {
      "cell_type": "code",
      "metadata": {
        "colab": {
          "base_uri": "https://localhost:8080/"
        },
        "id": "50XEoTdwLZ29",
        "outputId": "a9f25a3d-764c-4123-f4cd-2fe08ae01317"
      },
      "source": [
        "matrix01"
      ],
      "execution_count": 9,
      "outputs": [
        {
          "output_type": "execute_result",
          "data": {
            "text/plain": [
              "array([[ 1,  2,  3],\n",
              "       [ 5,  6,  8],\n",
              "       [ 9, 10, 11]])"
            ]
          },
          "metadata": {
            "tags": []
          },
          "execution_count": 9
        }
      ]
    },
    {
      "cell_type": "code",
      "metadata": {
        "colab": {
          "base_uri": "https://localhost:8080/"
        },
        "id": "k7z6pZcOLcJt",
        "outputId": "ee61069d-03b2-4b7a-a065-038a84ed0ba7"
      },
      "source": [
        "matrix02"
      ],
      "execution_count": 10,
      "outputs": [
        {
          "output_type": "execute_result",
          "data": {
            "text/plain": [
              "array([[0, 0, 0],\n",
              "       [2, 2, 2],\n",
              "       [1, 1, 1]])"
            ]
          },
          "metadata": {
            "tags": []
          },
          "execution_count": 10
        }
      ]
    },
    {
      "cell_type": "code",
      "metadata": {
        "colab": {
          "base_uri": "https://localhost:8080/"
        },
        "id": "i7-_uDgmLW4M",
        "outputId": "70ae3991-f954-4a13-95f9-5db519b5a084"
      },
      "source": [
        "matrix03"
      ],
      "execution_count": 11,
      "outputs": [
        {
          "output_type": "execute_result",
          "data": {
            "text/plain": [
              "array([[ 1,  2,  3],\n",
              "       [ 7,  8, 10],\n",
              "       [10, 11, 12]])"
            ]
          },
          "metadata": {
            "tags": []
          },
          "execution_count": 11
        }
      ]
    },
    {
      "cell_type": "code",
      "metadata": {
        "colab": {
          "base_uri": "https://localhost:8080/"
        },
        "id": "SkGXZZevLmFr",
        "outputId": "5a760ee0-283b-4270-fd31-65207792570a"
      },
      "source": [
        "matrix01.shape[1]"
      ],
      "execution_count": 12,
      "outputs": [
        {
          "output_type": "execute_result",
          "data": {
            "text/plain": [
              "3"
            ]
          },
          "metadata": {
            "tags": []
          },
          "execution_count": 12
        }
      ]
    },
    {
      "cell_type": "code",
      "metadata": {
        "id": "TczasWWlMp2F"
      },
      "source": [
        "ceros = np.zeros((5,3))"
      ],
      "execution_count": 13,
      "outputs": []
    },
    {
      "cell_type": "code",
      "metadata": {
        "colab": {
          "base_uri": "https://localhost:8080/"
        },
        "id": "YOA4WiVtMwv0",
        "outputId": "8cd9638e-19ef-426c-8141-0c0b1b633c56"
      },
      "source": [
        "ceros"
      ],
      "execution_count": 14,
      "outputs": [
        {
          "output_type": "execute_result",
          "data": {
            "text/plain": [
              "array([[0., 0., 0.],\n",
              "       [0., 0., 0.],\n",
              "       [0., 0., 0.],\n",
              "       [0., 0., 0.],\n",
              "       [0., 0., 0.]])"
            ]
          },
          "metadata": {
            "tags": []
          },
          "execution_count": 14
        }
      ]
    },
    {
      "cell_type": "code",
      "metadata": {
        "id": "bGffwxRnMEta"
      },
      "source": [
        "def sumaMatrix(A,B):\r\n",
        "  if(A.shape == B.shape):\r\n",
        "    C = np.zeros(A.shape)\r\n",
        "    for i in range(A.shape[0]):\r\n",
        "      for j in range(A.shape[1]):\r\n",
        "        C[i][j] = A[i][j] + B[i][j]\r\n",
        "    return C\r\n",
        "  else:\r\n",
        "    print(\"Dimensiones No Coinciden\")\r\n"
      ],
      "execution_count": 15,
      "outputs": []
    },
    {
      "cell_type": "code",
      "metadata": {
        "id": "KBHZZ9GQ3xBu"
      },
      "source": [
        "def restaMatrix(A,B):\r\n",
        "  if(A.shape == B.shape):\r\n",
        "    C = np.zeros(A.shape)\r\n",
        "    for i in range(A.shape[0]):\r\n",
        "      for j in range(A.shape[1]):\r\n",
        "        C[i][j] = A[i][j] - B[i][j]\r\n",
        "    return C\r\n",
        "  else:\r\n",
        "    print(\"Dimensiones No Coinciden\")"
      ],
      "execution_count": 43,
      "outputs": []
    },
    {
      "cell_type": "code",
      "metadata": {
        "id": "VGPStYm50Mml"
      },
      "source": [
        ""
      ],
      "execution_count": 15,
      "outputs": []
    },
    {
      "cell_type": "code",
      "metadata": {
        "colab": {
          "base_uri": "https://localhost:8080/"
        },
        "id": "FL3m3JhxOHXw",
        "outputId": "9ac383e4-5a35-455e-a234-92df8f6cc474"
      },
      "source": [
        "sumaMatrix(matrix01,matrix02)"
      ],
      "execution_count": 16,
      "outputs": [
        {
          "output_type": "execute_result",
          "data": {
            "text/plain": [
              "array([[ 1.,  2.,  3.],\n",
              "       [ 7.,  8., 10.],\n",
              "       [10., 11., 12.]])"
            ]
          },
          "metadata": {
            "tags": []
          },
          "execution_count": 16
        }
      ]
    },
    {
      "cell_type": "code",
      "metadata": {
        "id": "4SA8DEFcOieP"
      },
      "source": [
        "def mulMatrix(A,B):\r\n",
        "  if(A.shape[1] == B.shape[0]):\r\n",
        "    C = np.zeros((A.shape[0],B.shape[1]))\r\n",
        "    for i in range(C.shape[0]):\r\n",
        "      for j in range(C.shape[1]):\r\n",
        "        for k in range(A.shape[1]):\r\n",
        "          C[i][j] += A[i][k]*B[k][j] \r\n",
        "    return C\r\n",
        "  else:\r\n",
        "    print(\"No esta definida la multiplicación para estas dimensiones\")"
      ],
      "execution_count": 17,
      "outputs": []
    },
    {
      "cell_type": "code",
      "metadata": {
        "id": "gj2bxiD2OVrB"
      },
      "source": [
        "def mulMatrix2(A,B):\r\n",
        "  if(A.shape[1] == B.shape[0]):\r\n",
        "    C = np.zeros((A.shape[0],B.shape[1]))\r\n",
        "    for i in range(C.shape[0]):\r\n",
        "      for j in range(C.shape[1]):\r\n",
        "          C[i][j] = (A[i]*B.T[j]).sum()   \r\n",
        "    return C\r\n",
        "  else:\r\n",
        "    print(\"No esta definida la multiplicación para estas dimensiones\")"
      ],
      "execution_count": 18,
      "outputs": []
    },
    {
      "cell_type": "code",
      "metadata": {
        "id": "7iVklHTDOyux"
      },
      "source": [
        "matrix04 = np.array([[1,2,3],[4,5,6],[7,8,9]])"
      ],
      "execution_count": 19,
      "outputs": []
    },
    {
      "cell_type": "code",
      "metadata": {
        "colab": {
          "base_uri": "https://localhost:8080/"
        },
        "id": "0DWV0UC2Sz5s",
        "outputId": "27cda52f-5590-4005-a32f-2b5cd7a3414b"
      },
      "source": [
        "matrix04.shape"
      ],
      "execution_count": 20,
      "outputs": [
        {
          "output_type": "execute_result",
          "data": {
            "text/plain": [
              "(3, 3)"
            ]
          },
          "metadata": {
            "tags": []
          },
          "execution_count": 20
        }
      ]
    },
    {
      "cell_type": "code",
      "metadata": {
        "colab": {
          "base_uri": "https://localhost:8080/"
        },
        "id": "ZOn9mzTKVenP",
        "outputId": "979e3f18-6811-4510-dd53-fd560bbe4f58"
      },
      "source": [
        "matrix04[1].sum()"
      ],
      "execution_count": 21,
      "outputs": [
        {
          "output_type": "execute_result",
          "data": {
            "text/plain": [
              "15"
            ]
          },
          "metadata": {
            "tags": []
          },
          "execution_count": 21
        }
      ]
    },
    {
      "cell_type": "code",
      "metadata": {
        "colab": {
          "base_uri": "https://localhost:8080/"
        },
        "id": "wf26QowmS_Vx",
        "outputId": "f855ced1-d01e-47c9-8c3d-340794c9bbdd"
      },
      "source": [
        "matrix04[2]* matrix04[0]"
      ],
      "execution_count": 22,
      "outputs": [
        {
          "output_type": "execute_result",
          "data": {
            "text/plain": [
              "array([ 7, 16, 27])"
            ]
          },
          "metadata": {
            "tags": []
          },
          "execution_count": 22
        }
      ]
    },
    {
      "cell_type": "code",
      "metadata": {
        "id": "HjNAguZlPEWb"
      },
      "source": [
        "matrix04T = matrix04.T"
      ],
      "execution_count": 23,
      "outputs": []
    },
    {
      "cell_type": "code",
      "metadata": {
        "colab": {
          "base_uri": "https://localhost:8080/"
        },
        "id": "LdQCLuhjRqyO",
        "outputId": "7526bc9e-a880-4351-8e6f-d7f374d26231"
      },
      "source": [
        "matrix04T"
      ],
      "execution_count": 24,
      "outputs": [
        {
          "output_type": "execute_result",
          "data": {
            "text/plain": [
              "array([[1, 4, 7],\n",
              "       [2, 5, 8],\n",
              "       [3, 6, 9]])"
            ]
          },
          "metadata": {
            "tags": []
          },
          "execution_count": 24
        }
      ]
    },
    {
      "cell_type": "code",
      "metadata": {
        "colab": {
          "base_uri": "https://localhost:8080/"
        },
        "id": "wg1sgAmLUXu8",
        "outputId": "d0e26e42-52ef-4db9-d0d8-d9b77ad9cb99"
      },
      "source": [
        "mulMatrix2(matrix01,matrix02)"
      ],
      "execution_count": 25,
      "outputs": [
        {
          "output_type": "execute_result",
          "data": {
            "text/plain": [
              "array([[ 7.,  7.,  7.],\n",
              "       [20., 20., 20.],\n",
              "       [31., 31., 31.]])"
            ]
          },
          "metadata": {
            "tags": []
          },
          "execution_count": 25
        }
      ]
    },
    {
      "cell_type": "code",
      "metadata": {
        "colab": {
          "base_uri": "https://localhost:8080/"
        },
        "id": "QpWnZ_oSQFeF",
        "outputId": "5de71ced-aaaa-4a59-87ea-7577f507664f"
      },
      "source": [
        "mulMatrix(matrix01,matrix02)"
      ],
      "execution_count": 26,
      "outputs": [
        {
          "output_type": "execute_result",
          "data": {
            "text/plain": [
              "array([[ 7.,  7.,  7.],\n",
              "       [20., 20., 20.],\n",
              "       [31., 31., 31.]])"
            ]
          },
          "metadata": {
            "tags": []
          },
          "execution_count": 26
        }
      ]
    },
    {
      "cell_type": "code",
      "metadata": {
        "id": "fTRqYrdCQQAA",
        "colab": {
          "base_uri": "https://localhost:8080/"
        },
        "outputId": "628ff218-a200-4603-f538-08da56f8781a"
      },
      "source": [
        "np.matmul(matrix01,matrix02)"
      ],
      "execution_count": 27,
      "outputs": [
        {
          "output_type": "execute_result",
          "data": {
            "text/plain": [
              "array([[ 7,  7,  7],\n",
              "       [20, 20, 20],\n",
              "       [31, 31, 31]])"
            ]
          },
          "metadata": {
            "tags": []
          },
          "execution_count": 27
        }
      ]
    },
    {
      "cell_type": "code",
      "metadata": {
        "id": "thGuupaPziT-"
      },
      "source": [
        ""
      ],
      "execution_count": 27,
      "outputs": []
    },
    {
      "cell_type": "markdown",
      "metadata": {
        "id": "Kf_3DjSk0RNu"
      },
      "source": [
        "**Solución de Tarea**"
      ]
    },
    {
      "cell_type": "code",
      "metadata": {
        "id": "RSegnDBV0Uto"
      },
      "source": [
        "m01 = np.array([[1,2,3],[4,5,6],[7,8,9]])\r\n",
        "m02 = np.array([[4,0,3],[2,3,0],[0,1,2]])\r\n",
        "m03 = np.array([[0,0,1],[1,0,0],[0,1,0]])\r\n",
        "m04 = np.array([[0,0,1],[1,1,1],[1,1,1]])\r\n",
        "m05 = np.array([[0,0,1],[1,0,0],[0,1,0]])"
      ],
      "execution_count": 41,
      "outputs": []
    },
    {
      "cell_type": "code",
      "metadata": {
        "colab": {
          "base_uri": "https://localhost:8080/"
        },
        "id": "40Rp_YOt1CZg",
        "outputId": "32588e2f-bc9f-4358-be92-0fb2c1e90fca"
      },
      "source": [
        "sumaMatrix(  sumaMatrix(sumaMatrix(sumaMatrix(m01,m02),m03),m04),m05)"
      ],
      "execution_count": 42,
      "outputs": [
        {
          "output_type": "execute_result",
          "data": {
            "text/plain": [
              "array([[ 5.,  2.,  9.],\n",
              "       [ 9.,  9.,  7.],\n",
              "       [ 8., 12., 12.]])"
            ]
          },
          "metadata": {
            "tags": []
          },
          "execution_count": 42
        }
      ]
    },
    {
      "cell_type": "code",
      "metadata": {
        "colab": {
          "base_uri": "https://localhost:8080/"
        },
        "id": "IJ5c0lML1MWO",
        "outputId": "c89ce61a-0c92-4073-9b81-a0e9045116fb"
      },
      "source": [
        "resultado"
      ],
      "execution_count": 34,
      "outputs": [
        {
          "output_type": "execute_result",
          "data": {
            "text/plain": [
              "array([[ 5.,  2.,  7.],\n",
              "       [ 7.,  8.,  6.],\n",
              "       [ 7., 10., 11.]])"
            ]
          },
          "metadata": {
            "tags": []
          },
          "execution_count": 34
        }
      ]
    },
    {
      "cell_type": "code",
      "metadata": {
        "colab": {
          "base_uri": "https://localhost:8080/"
        },
        "id": "UPEw3MFH0kVN",
        "outputId": "4ba338a1-4362-454b-e16e-d620e6a19601"
      },
      "source": [
        "sumaMatrix(restaMatrix(restaMatrix( sumaMatrix(m01,m02),m03),m04),m05)"
      ],
      "execution_count": 47,
      "outputs": [
        {
          "output_type": "execute_result",
          "data": {
            "text/plain": [
              "array([[ 5.,  2.,  5.],\n",
              "       [ 5.,  7.,  5.],\n",
              "       [ 6.,  8., 10.]])"
            ]
          },
          "metadata": {
            "tags": []
          },
          "execution_count": 47
        }
      ]
    },
    {
      "cell_type": "code",
      "metadata": {
        "id": "QK65RSv662At"
      },
      "source": [
        "def determiante2x2(A):\r\n",
        "  return A[0][0]* A[1][1] - A[0][1] *A[1][0]"
      ],
      "execution_count": 49,
      "outputs": []
    },
    {
      "cell_type": "code",
      "metadata": {
        "id": "wFuGXuIm755Y"
      },
      "source": [
        "m06 = np.array([[10,22],[15,5]])"
      ],
      "execution_count": 50,
      "outputs": []
    },
    {
      "cell_type": "code",
      "metadata": {
        "colab": {
          "base_uri": "https://localhost:8080/"
        },
        "id": "39wtBnQk8BHW",
        "outputId": "eb0fe5ba-2b7c-4554-9b91-0801e7535172"
      },
      "source": [
        "determiante2x2(m06)"
      ],
      "execution_count": 52,
      "outputs": [
        {
          "output_type": "execute_result",
          "data": {
            "text/plain": [
              "-280"
            ]
          },
          "metadata": {
            "tags": []
          },
          "execution_count": 52
        }
      ]
    }
  ]
}